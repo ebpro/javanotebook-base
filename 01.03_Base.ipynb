{
 "cells": [
  {
   "cell_type": "markdown",
   "metadata": {},
   "source": [
    "# Les bases du langage Java\n",
    "\n",
    "- Le langage Java est fortement typé\n",
    "  - Toute expression a un type connu au moment de la compilation.\n",
    "- On distingue deux familles de types :\n",
    "  - Les types primitifs\n",
    "    - Booléen : boolean (1 bit)\n",
    "    - Entier : byte (1 octet), short (2 octets), int (4 octets), long (8 octets)\n",
    "    - Flottant : float (4 octets), double (8 octets)\n",
    "    - Caractère : char (2 octets, codage unicode)\n",
    "- Les références\n",
    "  - Elles indiquent des objets\n",
    "  - Elles comprennent les classes, les interfaces et les tableaux."
   ]
  },
  {
   "cell_type": "code",
   "execution_count": 1,
   "metadata": {},
   "outputs": [],
   "source": [
    "boolean b=false;\n",
    "byte by=1;\n",
    "short s=128;\n",
    "int i=123;\n",
    "long l=123;\n",
    "float f=123.4F;\n",
    "double d=123.4;\n",
    "char c='π';\n",
    "\n",
    "Object o=null;"
   ]
  },
  {
   "cell_type": "code",
   "execution_count": 2,
   "metadata": {},
   "outputs": [
    {
     "data": {
      "image/svg+xml": [
       "<?xml version=\"1.0\" encoding=\"UTF-8\" standalone=\"no\"?><svg xmlns=\"http://www.w3.org/2000/svg\" xmlns:xlink=\"http://www.w3.org/1999/xlink\" contentScriptType=\"application/ecmascript\" contentStyleType=\"text/css\" height=\"107px\" preserveAspectRatio=\"none\" style=\"width:179px;height:107px;background:#FFFFFF;\" version=\"1.1\" viewBox=\"0 0 179 107\" width=\"179px\" zoomAndPan=\"magnify\"><defs><filter height=\"300%\" id=\"fhr834ml49cbb\" width=\"300%\" x=\"-1\" y=\"-1\"><feGaussianBlur result=\"blurOut\" stdDeviation=\"2.0\"/><feColorMatrix in=\"blurOut\" result=\"blurOut2\" type=\"matrix\" values=\"0 0 0 0 0 0 0 0 0 0 0 0 0 0 0 0 0 0 .4 0\"/><feOffset dx=\"4.0\" dy=\"4.0\" in=\"blurOut2\" result=\"blurOut3\"/><feBlend in=\"SourceGraphic\" in2=\"blurOut3\" mode=\"normal\"/></filter></defs><g><!--MD5=[1d3308a050e4b472ad871965582028ae]\n",
       "class Voiture--><rect codeLine=\"1\" fill=\"#FEFECE\" filter=\"url(#fhr834ml49cbb)\" height=\"86.4141\" id=\"Voiture\" style=\"stroke:#A80036;stroke-width:1.5;\" width=\"158\" x=\"7\" y=\"7\"/><ellipse cx=\"59.25\" cy=\"23\" fill=\"#ADD1B2\" rx=\"11\" ry=\"11\" style=\"stroke:#A80036;stroke-width:1.0;\"/><path d=\"M62.2188,28.6406 Q61.6406,28.9375 61,29.0781 Q60.3594,29.2344 59.6563,29.2344 Q57.1563,29.2344 55.8281,27.5938 Q54.5156,25.9375 54.5156,22.8125 Q54.5156,19.6875 55.8281,18.0313 Q57.1563,16.375 59.6563,16.375 Q60.3594,16.375 61,16.5313 Q61.6563,16.6875 62.2188,16.9844 L62.2188,19.7031 Q61.5938,19.125 61,18.8594 Q60.4063,18.5781 59.7813,18.5781 Q58.4375,18.5781 57.75,19.6563 Q57.0625,20.7188 57.0625,22.8125 Q57.0625,24.9063 57.75,25.9844 Q58.4375,27.0469 59.7813,27.0469 Q60.4063,27.0469 61,26.7813 Q61.5938,26.5 62.2188,25.9219 L62.2188,28.6406 Z \" fill=\"#000000\"/><text fill=\"#000000\" font-family=\"sans-serif\" font-size=\"12\" lengthAdjust=\"spacing\" textLength=\"45\" x=\"79.75\" y=\"27.1543\">Voiture</text><line style=\"stroke:#A80036;stroke-width:1.5;\" x1=\"8\" x2=\"164\" y1=\"39\" y2=\"39\"/><rect fill=\"none\" height=\"6\" style=\"stroke:#C82930;stroke-width:1.0;\" width=\"6\" x=\"15\" y=\"47\"/><text fill=\"#000000\" font-family=\"sans-serif\" font-size=\"11\" lengthAdjust=\"spacing\" textLength=\"132\" x=\"27\" y=\"53.2104\">immatriculation : String</text><rect fill=\"none\" height=\"6\" style=\"stroke:#C82930;stroke-width:1.0;\" width=\"6\" x=\"15\" y=\"59.8047\"/><text fill=\"#000000\" font-family=\"sans-serif\" font-size=\"11\" lengthAdjust=\"spacing\" textLength=\"88\" x=\"27\" y=\"66.0151\">marque : String</text><rect fill=\"none\" height=\"6\" style=\"stroke:#C82930;stroke-width:1.0;\" width=\"6\" x=\"15\" y=\"72.6094\"/><text fill=\"#000000\" font-family=\"sans-serif\" font-size=\"11\" lengthAdjust=\"spacing\" textLength=\"99\" x=\"27\" y=\"78.8198\">enMarche : String</text><line style=\"stroke:#A80036;stroke-width:1.5;\" x1=\"8\" x2=\"164\" y1=\"85.4141\" y2=\"85.4141\"/><!--MD5=[44c2c132541590beae786a4bf21f7ce2]\n",
       "@startuml\r\n",
       "class Voiture {\r\n",
       "    - immatriculation : String\r\n",
       "    - marque : String\r\n",
       "    - enMarche : String\r\n",
       "}    \r\n",
       "@enduml\r\n",
       "\n",
       "PlantUML version 1.2021.12(Tue Oct 05 16:01:58 UTC 2021)\n",
       "(GPL source distribution)\n",
       "Java Runtime: OpenJDK Runtime Environment\n",
       "JVM: OpenJDK 64-Bit Server VM\n",
       "Default Encoding: UTF-8\n",
       "Language: en\n",
       "Country: US\n",
       "--></g></svg>"
      ],
      "text/plain": [
       "<?xml version=\"1.0\" encoding=\"UTF-8\" standalone=\"no\"?><svg xmlns=\"http://www.w3.org/2000/svg\" xmlns:xlink=\"http://www.w3.org/1999/xlink\" contentScriptType=\"application/ecmascript\" contentStyleType=\"text/css\" height=\"107px\" preserveAspectRatio=\"none\" style=\"width:179px;height:107px;background:#FFFFFF;\" version=\"1.1\" viewBox=\"0 0 179 107\" width=\"179px\" zoomAndPan=\"magnify\"><defs><filter height=\"300%\" id=\"fhr834ml49cbb\" width=\"300%\" x=\"-1\" y=\"-1\"><feGaussianBlur result=\"blurOut\" stdDeviation=\"2.0\"/><feColorMatrix in=\"blurOut\" result=\"blurOut2\" type=\"matrix\" values=\"0 0 0 0 0 0 0 0 0 0 0 0 0 0 0 0 0 0 .4 0\"/><feOffset dx=\"4.0\" dy=\"4.0\" in=\"blurOut2\" result=\"blurOut3\"/><feBlend in=\"SourceGraphic\" in2=\"blurOut3\" mode=\"normal\"/></filter></defs><g><!--MD5=[1d3308a050e4b472ad871965582028ae]\n",
       "class Voiture--><rect codeLine=\"1\" fill=\"#FEFECE\" filter=\"url(#fhr834ml49cbb)\" height=\"86.4141\" id=\"Voiture\" style=\"stroke:#A80036;stroke-width:1.5;\" width=\"158\" x=\"7\" y=\"7\"/><ellipse cx=\"59.25\" cy=\"23\" fill=\"#ADD1B2\" rx=\"11\" ry=\"11\" style=\"stroke:#A80036;stroke-width:1.0;\"/><path d=\"M62.2188,28.6406 Q61.6406,28.9375 61,29.0781 Q60.3594,29.2344 59.6563,29.2344 Q57.1563,29.2344 55.8281,27.5938 Q54.5156,25.9375 54.5156,22.8125 Q54.5156,19.6875 55.8281,18.0313 Q57.1563,16.375 59.6563,16.375 Q60.3594,16.375 61,16.5313 Q61.6563,16.6875 62.2188,16.9844 L62.2188,19.7031 Q61.5938,19.125 61,18.8594 Q60.4063,18.5781 59.7813,18.5781 Q58.4375,18.5781 57.75,19.6563 Q57.0625,20.7188 57.0625,22.8125 Q57.0625,24.9063 57.75,25.9844 Q58.4375,27.0469 59.7813,27.0469 Q60.4063,27.0469 61,26.7813 Q61.5938,26.5 62.2188,25.9219 L62.2188,28.6406 Z \" fill=\"#000000\"/><text fill=\"#000000\" font-family=\"sans-serif\" font-size=\"12\" lengthAdjust=\"spacing\" textLength=\"45\" x=\"79.75\" y=\"27.1543\">Voiture</text><line style=\"stroke:#A80036;stroke-width:1.5;\" x1=\"8\" x2=\"164\" y1=\"39\" y2=\"39\"/><rect fill=\"none\" height=\"6\" style=\"stroke:#C82930;stroke-width:1.0;\" width=\"6\" x=\"15\" y=\"47\"/><text fill=\"#000000\" font-family=\"sans-serif\" font-size=\"11\" lengthAdjust=\"spacing\" textLength=\"132\" x=\"27\" y=\"53.2104\">immatriculation : String</text><rect fill=\"none\" height=\"6\" style=\"stroke:#C82930;stroke-width:1.0;\" width=\"6\" x=\"15\" y=\"59.8047\"/><text fill=\"#000000\" font-family=\"sans-serif\" font-size=\"11\" lengthAdjust=\"spacing\" textLength=\"88\" x=\"27\" y=\"66.0151\">marque : String</text><rect fill=\"none\" height=\"6\" style=\"stroke:#C82930;stroke-width:1.0;\" width=\"6\" x=\"15\" y=\"72.6094\"/><text fill=\"#000000\" font-family=\"sans-serif\" font-size=\"11\" lengthAdjust=\"spacing\" textLength=\"99\" x=\"27\" y=\"78.8198\">enMarche : String</text><line style=\"stroke:#A80036;stroke-width:1.5;\" x1=\"8\" x2=\"164\" y1=\"85.4141\" y2=\"85.4141\"/><!--MD5=[44c2c132541590beae786a4bf21f7ce2]\n",
       "@startuml\r\n",
       "class Voiture {\r\n",
       "    - immatriculation : String\r\n",
       "    - marque : String\r\n",
       "    - enMarche : String\r\n",
       "}    \r\n",
       "@enduml\r\n",
       "\n",
       "PlantUML version 1.2021.12(Tue Oct 05 16:01:58 UTC 2021)\n",
       "(GPL source distribution)\n",
       "Java Runtime: OpenJDK Runtime Environment\n",
       "JVM: OpenJDK 64-Bit Server VM\n",
       "Default Encoding: UTF-8\n",
       "Language: en\n",
       "Country: US\n",
       "--></g></svg>"
      ]
     },
     "metadata": {},
     "output_type": "display_data"
    }
   ],
   "source": [
    "%%plantUMLFile\n",
    "resources/01.03/UML/Voiture.uml"
   ]
  },
  {
   "cell_type": "code",
   "execution_count": 3,
   "metadata": {},
   "outputs": [],
   "source": [
    "public class Voiture {\n",
    "// Variables d'instances\n",
    " private String immatriculation = \"\";\n",
    " private String marque = \"\";\n",
    " private boolean enMarche;\n",
    "// Constructeur\n",
    " public Voiture(String immatriculation, String marque) { \n",
    "  this.immatriculation = immatriculation;\n",
    "  this.marque = marque;\n",
    " }\n",
    " public Voiture(String immatriculation) {\n",
    "  this(immatriculation, \"\");\n",
    "}\n",
    "//Modificateur \n",
    " public void setMarque(String marque){\n",
    "  this.marque = marque;\n",
    " }\n",
    "// Accesseur\n",
    " public String getMarque() {\n",
    "  return marque;\n",
    "}\n",
    "//Methodes\n",
    " public void demarrer() { }\n",
    " public void arreter() {}\n",
    "}"
   ]
  },
  {
   "cell_type": "code",
   "execution_count": 4,
   "metadata": {},
   "outputs": [
    {
     "data": {
      "image/svg+xml": [
       "<?xml version=\"1.0\" encoding=\"UTF-8\" standalone=\"no\"?><svg xmlns=\"http://www.w3.org/2000/svg\" xmlns:xlink=\"http://www.w3.org/1999/xlink\" contentScriptType=\"application/ecmascript\" contentStyleType=\"text/css\" height=\"145px\" preserveAspectRatio=\"none\" style=\"width:179px;height:145px;background:#FFFFFF;\" version=\"1.1\" viewBox=\"0 0 179 145\" width=\"179px\" zoomAndPan=\"magnify\"><defs><filter height=\"300%\" id=\"facsegtegi4jh\" width=\"300%\" x=\"-1\" y=\"-1\"><feGaussianBlur result=\"blurOut\" stdDeviation=\"2.0\"/><feColorMatrix in=\"blurOut\" result=\"blurOut2\" type=\"matrix\" values=\"0 0 0 0 0 0 0 0 0 0 0 0 0 0 0 0 0 0 .4 0\"/><feOffset dx=\"4.0\" dy=\"4.0\" in=\"blurOut2\" result=\"blurOut3\"/><feBlend in=\"SourceGraphic\" in2=\"blurOut3\" mode=\"normal\"/></filter></defs><g><!--MD5=[e47291784b0760b66e32fe4e4ebc95b5]\n",
       "class Chien--><rect codeLine=\"1\" fill=\"#FEFECE\" filter=\"url(#facsegtegi4jh)\" height=\"124.8281\" id=\"Chien\" style=\"stroke:#A80036;stroke-width:1.5;\" width=\"158\" x=\"7\" y=\"7\"/><ellipse cx=\"64.25\" cy=\"23\" fill=\"#ADD1B2\" rx=\"11\" ry=\"11\" style=\"stroke:#A80036;stroke-width:1.0;\"/><path d=\"M67.2188,28.6406 Q66.6406,28.9375 66,29.0781 Q65.3594,29.2344 64.6563,29.2344 Q62.1563,29.2344 60.8281,27.5938 Q59.5156,25.9375 59.5156,22.8125 Q59.5156,19.6875 60.8281,18.0313 Q62.1563,16.375 64.6563,16.375 Q65.3594,16.375 66,16.5313 Q66.6563,16.6875 67.2188,16.9844 L67.2188,19.7031 Q66.5938,19.125 66,18.8594 Q65.4063,18.5781 64.7813,18.5781 Q63.4375,18.5781 62.75,19.6563 Q62.0625,20.7188 62.0625,22.8125 Q62.0625,24.9063 62.75,25.9844 Q63.4375,27.0469 64.7813,27.0469 Q65.4063,27.0469 66,26.7813 Q66.5938,26.5 67.2188,25.9219 L67.2188,28.6406 Z \" fill=\"#000000\"/><text fill=\"#000000\" font-family=\"sans-serif\" font-size=\"12\" lengthAdjust=\"spacing\" textLength=\"35\" x=\"84.75\" y=\"27.1543\">Chien</text><line style=\"stroke:#A80036;stroke-width:1.5;\" x1=\"8\" x2=\"164\" y1=\"39\" y2=\"39\"/><rect fill=\"none\" height=\"6\" style=\"stroke:#C82930;stroke-width:1.0;\" width=\"6\" x=\"15\" y=\"47\"/><text fill=\"#000000\" font-family=\"sans-serif\" font-size=\"11\" lengthAdjust=\"spacing\" textLength=\"94\" x=\"27\" y=\"53.2104\">tatouage : String</text><rect fill=\"none\" height=\"6\" style=\"stroke:#C82930;stroke-width:1.0;\" width=\"6\" x=\"15\" y=\"59.8047\"/><text fill=\"#000000\" font-family=\"sans-serif\" font-size=\"11\" lengthAdjust=\"spacing\" textLength=\"69\" x=\"27\" y=\"66.0151\">nom : String</text><text fill=\"#000000\" font-family=\"sans-serif\" font-size=\"11\" lengthAdjust=\"spacing\" textLength=\"0\" x=\"30\" y=\"78.8198\"/><rect fill=\"none\" height=\"6\" style=\"stroke:#C82930;stroke-width:1.0;\" width=\"6\" x=\"15\" y=\"85.4141\"/><text fill=\"#000000\" font-family=\"sans-serif\" font-size=\"11\" lengthAdjust=\"spacing\" text-decoration=\"underline\" textLength=\"77\" x=\"27\" y=\"91.6245\">nbChiens : int</text><rect fill=\"none\" height=\"6\" style=\"stroke:#C82930;stroke-width:1.0;\" width=\"6\" x=\"15\" y=\"98.2188\"/><text fill=\"#000000\" font-family=\"sans-serif\" font-size=\"11\" lengthAdjust=\"spacing\" text-decoration=\"underline\" textLength=\"98\" x=\"27\" y=\"104.4292\">NB_REFUGES : int</text><rect fill=\"none\" height=\"6\" style=\"stroke:#C82930;stroke-width:1.0;\" width=\"6\" x=\"15\" y=\"111.0234\"/><text fill=\"#000000\" font-family=\"sans-serif\" font-size=\"11\" lengthAdjust=\"spacing\" text-decoration=\"underline\" textLength=\"132\" x=\"27\" y=\"117.2339\">occupationRefuge : int[]</text><line style=\"stroke:#A80036;stroke-width:1.5;\" x1=\"8\" x2=\"164\" y1=\"123.8281\" y2=\"123.8281\"/><!--MD5=[175cfc8eafcadccb1c8b23ca2f88bd9e]\n",
       "@startuml\r\n",
       "class Chien {\r\n",
       "    - tatouage : String\r\n",
       "    - nom : String\r\n",
       "    \r\n",
       "    - {static} nbChiens : int\r\n",
       "    - {static} NB_REFUGES : int\r\n",
       "    - {static} occupationRefuge : int[]\r\n",
       "        \r\n",
       "}    \r\n",
       "@enduml\r\n",
       "\n",
       "PlantUML version 1.2021.12(Tue Oct 05 16:01:58 UTC 2021)\n",
       "(GPL source distribution)\n",
       "Java Runtime: OpenJDK Runtime Environment\n",
       "JVM: OpenJDK 64-Bit Server VM\n",
       "Default Encoding: UTF-8\n",
       "Language: en\n",
       "Country: US\n",
       "--></g></svg>"
      ],
      "text/plain": [
       "<?xml version=\"1.0\" encoding=\"UTF-8\" standalone=\"no\"?><svg xmlns=\"http://www.w3.org/2000/svg\" xmlns:xlink=\"http://www.w3.org/1999/xlink\" contentScriptType=\"application/ecmascript\" contentStyleType=\"text/css\" height=\"145px\" preserveAspectRatio=\"none\" style=\"width:179px;height:145px;background:#FFFFFF;\" version=\"1.1\" viewBox=\"0 0 179 145\" width=\"179px\" zoomAndPan=\"magnify\"><defs><filter height=\"300%\" id=\"facsegtegi4jh\" width=\"300%\" x=\"-1\" y=\"-1\"><feGaussianBlur result=\"blurOut\" stdDeviation=\"2.0\"/><feColorMatrix in=\"blurOut\" result=\"blurOut2\" type=\"matrix\" values=\"0 0 0 0 0 0 0 0 0 0 0 0 0 0 0 0 0 0 .4 0\"/><feOffset dx=\"4.0\" dy=\"4.0\" in=\"blurOut2\" result=\"blurOut3\"/><feBlend in=\"SourceGraphic\" in2=\"blurOut3\" mode=\"normal\"/></filter></defs><g><!--MD5=[e47291784b0760b66e32fe4e4ebc95b5]\n",
       "class Chien--><rect codeLine=\"1\" fill=\"#FEFECE\" filter=\"url(#facsegtegi4jh)\" height=\"124.8281\" id=\"Chien\" style=\"stroke:#A80036;stroke-width:1.5;\" width=\"158\" x=\"7\" y=\"7\"/><ellipse cx=\"64.25\" cy=\"23\" fill=\"#ADD1B2\" rx=\"11\" ry=\"11\" style=\"stroke:#A80036;stroke-width:1.0;\"/><path d=\"M67.2188,28.6406 Q66.6406,28.9375 66,29.0781 Q65.3594,29.2344 64.6563,29.2344 Q62.1563,29.2344 60.8281,27.5938 Q59.5156,25.9375 59.5156,22.8125 Q59.5156,19.6875 60.8281,18.0313 Q62.1563,16.375 64.6563,16.375 Q65.3594,16.375 66,16.5313 Q66.6563,16.6875 67.2188,16.9844 L67.2188,19.7031 Q66.5938,19.125 66,18.8594 Q65.4063,18.5781 64.7813,18.5781 Q63.4375,18.5781 62.75,19.6563 Q62.0625,20.7188 62.0625,22.8125 Q62.0625,24.9063 62.75,25.9844 Q63.4375,27.0469 64.7813,27.0469 Q65.4063,27.0469 66,26.7813 Q66.5938,26.5 67.2188,25.9219 L67.2188,28.6406 Z \" fill=\"#000000\"/><text fill=\"#000000\" font-family=\"sans-serif\" font-size=\"12\" lengthAdjust=\"spacing\" textLength=\"35\" x=\"84.75\" y=\"27.1543\">Chien</text><line style=\"stroke:#A80036;stroke-width:1.5;\" x1=\"8\" x2=\"164\" y1=\"39\" y2=\"39\"/><rect fill=\"none\" height=\"6\" style=\"stroke:#C82930;stroke-width:1.0;\" width=\"6\" x=\"15\" y=\"47\"/><text fill=\"#000000\" font-family=\"sans-serif\" font-size=\"11\" lengthAdjust=\"spacing\" textLength=\"94\" x=\"27\" y=\"53.2104\">tatouage : String</text><rect fill=\"none\" height=\"6\" style=\"stroke:#C82930;stroke-width:1.0;\" width=\"6\" x=\"15\" y=\"59.8047\"/><text fill=\"#000000\" font-family=\"sans-serif\" font-size=\"11\" lengthAdjust=\"spacing\" textLength=\"69\" x=\"27\" y=\"66.0151\">nom : String</text><text fill=\"#000000\" font-family=\"sans-serif\" font-size=\"11\" lengthAdjust=\"spacing\" textLength=\"0\" x=\"30\" y=\"78.8198\"/><rect fill=\"none\" height=\"6\" style=\"stroke:#C82930;stroke-width:1.0;\" width=\"6\" x=\"15\" y=\"85.4141\"/><text fill=\"#000000\" font-family=\"sans-serif\" font-size=\"11\" lengthAdjust=\"spacing\" text-decoration=\"underline\" textLength=\"77\" x=\"27\" y=\"91.6245\">nbChiens : int</text><rect fill=\"none\" height=\"6\" style=\"stroke:#C82930;stroke-width:1.0;\" width=\"6\" x=\"15\" y=\"98.2188\"/><text fill=\"#000000\" font-family=\"sans-serif\" font-size=\"11\" lengthAdjust=\"spacing\" text-decoration=\"underline\" textLength=\"98\" x=\"27\" y=\"104.4292\">NB_REFUGES : int</text><rect fill=\"none\" height=\"6\" style=\"stroke:#C82930;stroke-width:1.0;\" width=\"6\" x=\"15\" y=\"111.0234\"/><text fill=\"#000000\" font-family=\"sans-serif\" font-size=\"11\" lengthAdjust=\"spacing\" text-decoration=\"underline\" textLength=\"132\" x=\"27\" y=\"117.2339\">occupationRefuge : int[]</text><line style=\"stroke:#A80036;stroke-width:1.5;\" x1=\"8\" x2=\"164\" y1=\"123.8281\" y2=\"123.8281\"/><!--MD5=[175cfc8eafcadccb1c8b23ca2f88bd9e]\n",
       "@startuml\r\n",
       "class Chien {\r\n",
       "    - tatouage : String\r\n",
       "    - nom : String\r\n",
       "    \r\n",
       "    - {static} nbChiens : int\r\n",
       "    - {static} NB_REFUGES : int\r\n",
       "    - {static} occupationRefuge : int[]\r\n",
       "        \r\n",
       "}    \r\n",
       "@enduml\r\n",
       "\n",
       "PlantUML version 1.2021.12(Tue Oct 05 16:01:58 UTC 2021)\n",
       "(GPL source distribution)\n",
       "Java Runtime: OpenJDK Runtime Environment\n",
       "JVM: OpenJDK 64-Bit Server VM\n",
       "Default Encoding: UTF-8\n",
       "Language: en\n",
       "Country: US\n",
       "--></g></svg>"
      ]
     },
     "metadata": {},
     "output_type": "display_data"
    }
   ],
   "source": [
    "%%plantUMLFile\n",
    "resources/01.03/UML/Chien.uml"
   ]
  },
  {
   "cell_type": "code",
   "execution_count": 5,
   "metadata": {},
   "outputs": [],
   "source": [
    "public class Chien {\n",
    "  private String tatouage;\n",
    "  private String nom;\n",
    " \n",
    "  private static int nbChiens = 0;\n",
    "  private static final int NB_REFUGES = 3;\n",
    "  private static int[] occupationRefuge = \n",
    "    new int[NB_REFUGES];\n",
    "  // Constructeur\n",
    "  public Chien(String t, String n) {\n",
    "    tatouage = t;nom = n;nbChiens++;\n",
    "  }\n",
    "  // Methode statique de gestion des instances\n",
    "  public static int getNbChiens() {\n",
    "    return nbChiens;\n",
    "  }\n",
    "  \n",
    "  // Bloc statique d'initialisation\n",
    "  static {\n",
    "    for (int i = 0; i < NB_REFUGES; i++) {\n",
    "      occupationRefuge[i] = -1;\n",
    "    }\n",
    "  }\n",
    "}"
   ]
  },
  {
   "cell_type": "markdown",
   "metadata": {},
   "source": [
    "- Un programme Java est un ensemble de classes dont au moins une est\n",
    "executable\n",
    "  - On ajoute la méthode de classe `void main(String args[])`\n",
    "- Pour exécuter ce programme :\n",
    "  - On compile : `javac BonjourATous.java`, cela produit le fichier `BonjourATous.class`\n",
    "  - On execute (la classe, pas le fichier .class) : `java BonjourATous`"
   ]
  },
  {
   "cell_type": "code",
   "execution_count": 6,
   "metadata": {},
   "outputs": [],
   "source": [
    "/** \n",
    " * Cette application Java affiche simplement \"Bonjour a tous !\"\n",
    " * sur la sortie standard.\n",
    " */\n",
    "class BonjourATous {\n",
    "    public static void main(String[] args) {\n",
    "      //Affichage du texte\n",
    "      System.out.println(\"Bonjour a tous !\"); \n",
    "    }\n",
    "}"
   ]
  },
  {
   "cell_type": "markdown",
   "metadata": {},
   "source": [
    "Dans les notebooks, la sortie standard n'est pas visible.\n",
    "Nous appellerons directement la méthode `main()`."
   ]
  },
  {
   "cell_type": "code",
   "execution_count": 7,
   "metadata": {},
   "outputs": [
    {
     "name": "stdout",
     "output_type": "stream",
     "text": [
      "Bonjour a tous !\n"
     ]
    }
   ],
   "source": [
    "BonjourATous.main(new String[0])"
   ]
  },
  {
   "cell_type": "markdown",
   "metadata": {},
   "source": [
    "- Pour créer une nouvelle instance d’une classe on utilise un de ses\n",
    "constructeurs\n",
    "- Ils servent aussi à initialiser l’état interne du nouvel objet\n",
    "- Un constructeur :\n",
    "  - possède le même nom que la classe\n",
    "  - n’a pas de type de retour\n",
    "  - peut être surchargé\n",
    "  - est invoqué avec l’opérateur new\n",
    "  \n",
    "- Si aucun constructeur n’est donné :\n",
    " - un constructeur par défaut sans paramètres et ayant la même accessibilité\n",
    "que la classe est créé sinon le constructeur sans paramètre n’est pas créé\n",
    "implicitement\n",
    " - Une autre constructeur peut être invoqué avec la méthode this et les\n",
    "paramètres correspondants"
   ]
  },
  {
   "cell_type": "code",
   "execution_count": 8,
   "metadata": {},
   "outputs": [
    {
     "name": "stdout",
     "output_type": "stream",
     "text": [
      "uneVoiture est une Rolls-Royce\n",
      "Il y a 2 chiens\n"
     ]
    }
   ],
   "source": [
    "/**\n",
    " * Un exemple de programme qui\n",
    " * instancie une Voiture et deux Chiens\n",
    " * @author Emmanuel Bruno\n",
    " * @version 0.1\n",
    " * @see Voiture, Chien\n",
    " */\n",
    "public class Instanciation {\n",
    " public static void main(String[] args) {\n",
    "  Voiture uneVoiture = new Voiture(\"1234 AB 83\");\n",
    "  uneVoiture.setMarque(\"Rolls-Royce\");\n",
    "  uneVoiture.demarrer();\n",
    "  System.out.println(\"uneVoiture est une \"+uneVoiture.getMarque());\n",
    "     \n",
    "  Chien c1 = new Chien(\"C1\",\"Rex\"); \n",
    "  Chien c2; c2 = new Chien(\"C2\",\"Medor\");\n",
    "  System.out.println(\"Il y a \"+Chien.getNbChiens()+\" chiens\");\n",
    "  }\n",
    "}\n",
    "\n",
    "Instanciation.main(new String[0])"
   ]
  },
  {
   "cell_type": "code",
   "execution_count": 9,
   "metadata": {},
   "outputs": [
    {
     "name": "stdout",
     "output_type": "stream",
     "text": [
      "test 1 4\n",
      "test"
     ]
    }
   ],
   "source": [
    "printf(\"test %d %d\\n\", 1,4);\n",
    "printf(\"test\")"
   ]
  },
  {
   "cell_type": "code",
   "execution_count": 10,
   "metadata": {},
   "outputs": [],
   "source": [
    "assert(false)"
   ]
  },
  {
   "cell_type": "code",
   "execution_count": null,
   "metadata": {},
   "outputs": [],
   "source": []
  },
  {
   "cell_type": "code",
   "execution_count": 11,
   "metadata": {},
   "outputs": [],
   "source": [
    "assert 1 == 2: \"Assertion message\";"
   ]
  },
  {
   "cell_type": "code",
   "execution_count": null,
   "metadata": {},
   "outputs": [],
   "source": []
  }
 ],
 "metadata": {
  "kernelspec": {
   "display_name": "Java [conda env:root] *",
   "language": "java",
   "name": "conda-root-java"
  },
  "language_info": {
   "codemirror_mode": "java",
   "file_extension": ".jshell",
   "mimetype": "text/x-java-source",
   "name": "Java",
   "pygments_lexer": "java",
   "version": "17+35"
  }
 },
 "nbformat": 4,
 "nbformat_minor": 4
}
