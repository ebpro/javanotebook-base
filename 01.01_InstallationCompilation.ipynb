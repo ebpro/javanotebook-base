{
 "cells": [
  {
   "cell_type": "markdown",
   "metadata": {
    "slideshow": {
     "slide_type": "slide"
    }
   },
   "source": [
    "# Java Installation et utilisation de base\n",
    "Pour installer et utiliser Java pour développer des applications il suffit de télécharger un jdk (https://projects.eclipse.org/projects/adoptium.temurin), de le décompresser dans un répertoire, de définir la variable d'environnement `JAVA_HOME` et d'ajouter `$JAVA_HOME/bin` à la variable `PATH`.\n",
    "```bash\n",
    "export JAVA_HOME=/usr/local/jdk....\n",
    "export PATH=$JAVA_HOME/bin:$PATH\n",
    "```\n",
    "\n",
    "Pour une installation, rapide et simple de Java et Maven entre autres, il est possible d’utiliser l’outils [SDKMan](http://sdkman.io/) qui permet simplement de passer d'une installation à une autre.\n",
    "```bash\n",
    "curl -s “https://get.sdkman.io” | bash\n",
    "sdk install java # install the latest java LTS\n",
    "sdk install java 8.0.302-tem     # Install java 8\n",
    "sdk install java 11.0.12-tem     # Install java 11\n",
    "sdk install java 17.0.0-tem      # Install java 17\n",
    "sdk install maven                # Install latest Maven\n",
    "```\n",
    "\n"
   ]
  },
  {
   "cell_type": "code",
   "execution_count": 1,
   "metadata": {
    "slideshow": {
     "slide_type": "subslide"
    }
   },
   "outputs": [
    {
     "name": "stdout",
     "output_type": "stream",
     "text": [
      "List Java sdk installed with SDKMan\n",
      "               | >>> | 17.0.0       | tem     | installed  | 17.0.0-tem          \n",
      "               |     | 11.0.13      | tem     | installed  | 11.0.13-tem         \n",
      "               |     | 8.0.312      | tem     | installed  | 8.0.312-tem         \n",
      "\n",
      "Check the Java variables\n",
      "JAVA_HOME=/home/jovyan/.sdkman/candidates/java/current\n",
      "PATH=/usr/local/bin:/usr/local/sbin:/home/jovyan/.sdkman/candidates/maven/current/bin:/home/jovyan/.sdkman/candidates/java/current/bin:/opt/bin:/opt/conda/bin:/usr/sbin:/usr/bin:/sbin:/bin\n",
      "\n",
      "Check the version of the JRE\n",
      "openjdk 17 2021-09-14\n",
      "OpenJDK Runtime Environment Temurin-17+35 (build 17+35)\n",
      "OpenJDK 64-Bit Server VM Temurin-17+35 (build 17+35, mixed mode, sharing)\n",
      "Check the version of the compiler\n",
      "javac 17\n"
     ]
    }
   ],
   "source": [
    "%%shell\n",
    "echo List Java sdk installed with SDKMan\n",
    "sdk list java|grep installed\n",
    "echo\n",
    "echo Check the Java variables\n",
    "echo \"JAVA_HOME=\"$JAVA_HOME\n",
    "echo \"PATH=\"$PATH\n",
    "echo\n",
    "echo Check the version of the JRE\n",
    "java --version\n",
    "echo Check the version of the compiler\n",
    "javac --version"
   ]
  },
  {
   "cell_type": "markdown",
   "metadata": {
    "slideshow": {
     "slide_type": "slide"
    }
   },
   "source": [
    "## Compiler et exécuter une application\n",
    "Créer un répertoire (ici `/home/jovyan/work/src`) qui contiendra tous vos projets (ce répertoire sera appelé répertoire de travail ou workspace). \n",
    "A l’intérieur de ce répertoire de travail ajouter le répertoire `helloworld` (appelé répertoire de projet). \n",
    "A l’intérieur de votre répertoire de projet ajouter les répertoires standards `src`, `bin`, `doc`, `dist` et `lib`.\n",
    "\n",
    "Dans le répertoire src, créer l’arborescence correspondant au paquetage : `fr.univtln.login.tp.tp1`. A l’intérieur de ce paquetage ajouter le programme Java [PremierProgramme.java](https://bruno.univ-tln.fr/_media/enseignement/m1/ssi3/tp1/premierprogramme.java.zip).\n",
    "\n",
    "Ouvrir et modifier ce programme pour que l’instruction package soit correcte en adaptant votre login. "
   ]
  },
  {
   "cell_type": "code",
   "execution_count": 2,
   "metadata": {
    "slideshow": {
     "slide_type": "subslide"
    }
   },
   "outputs": [
    {
     "name": "stdout",
     "output_type": "stream",
     "text": [
      "/home/jovyan/work/src/Projects/helloworld\n",
      "├── monManifest\n",
      "└── src\n",
      "    └── fr\n",
      "        └── univtln\n",
      "            └── bruno\n",
      "                └── tp\n",
      "                    └── tp1\n",
      "                        └── HelloWorld.java\n",
      "\n",
      "6 directories, 2 files\n"
     ]
    }
   ],
   "source": [
    "%%shell\n",
    "mkdir -p /home/jovyan/work/src\n",
    "\n",
    "\\cp -r /home/jovyan/javanotebook-base/resources/01.01/Projects /home/jovyan/work/src\n",
    "\n",
    "# clean up previous executions\n",
    "rm -rf \"/home/jovyan/work/src/Projects/helloworld/dist\" \"/home/jovyan/work/src/Projects/helloworld/doc\" \"/home/jovyan/work/src/Projects/helloworld/bin\"\n",
    "\n",
    "# Displays directory tree\n",
    "tree \"/home/jovyan/work/src/Projects/helloworld\""
   ]
  },
  {
   "cell_type": "markdown",
   "metadata": {
    "slideshow": {
     "slide_type": "slide"
    }
   },
   "source": [
    "A partir de votre répertoire de projet, compiler le programme avec la commande suivante :"
   ]
  },
  {
   "cell_type": "code",
   "execution_count": 3,
   "metadata": {},
   "outputs": [
    {
     "name": "stdout",
     "output_type": "stream",
     "text": [
      "/home/jovyan/work/src/Projects/helloworld\n",
      "├── bin\n",
      "│   └── fr\n",
      "│       └── univtln\n",
      "│           └── bruno\n",
      "│               └── tp\n",
      "│                   └── tp1\n",
      "│                       └── HelloWorld.class\n",
      "├── monManifest\n",
      "└── src\n",
      "    └── fr\n",
      "        └── univtln\n",
      "            └── bruno\n",
      "                └── tp\n",
      "                    └── tp1\n",
      "                        └── HelloWorld.java\n",
      "\n",
      "12 directories, 3 files\n"
     ]
    }
   ],
   "source": [
    "%%shell\n",
    "cd \"/home/jovyan/work/src/Projects/helloworld\"\n",
    "javac -sourcepath src -d bin src/fr/univtln/bruno/tp/tp1/HelloWorld.java\n",
    "tree \"/home/jovyan/work/src/Projects/helloworld\""
   ]
  },
  {
   "cell_type": "markdown",
   "metadata": {},
   "source": [
    "Pour exécuter le programme, depuis votre répertoire de projet ajouter le répertoire bin au classpath : "
   ]
  },
  {
   "cell_type": "code",
   "execution_count": 4,
   "metadata": {},
   "outputs": [
    {
     "name": "stdout",
     "output_type": "stream",
     "text": [
      "/home/jovyan/work/src/Projects/helloworld\n",
      "Bonjour Pierre\n"
     ]
    }
   ],
   "source": [
    "%%shell\n",
    "cd \"/home/jovyan/work/src/Projects/helloworld\"\n",
    "# Displays current directory\n",
    "pwd\n",
    "# Load the Helloworld class and run the main method. \n",
    "java -classpath bin fr.univtln.bruno.tp.tp1.HelloWorld Pierre"
   ]
  },
  {
   "cell_type": "markdown",
   "metadata": {
    "slideshow": {
     "slide_type": "slide"
    }
   },
   "source": [
    "## Générer la documentation\n",
    "### Précision sur la forme\n",
    "\n",
    "La commande `javadoc` produit de la documentation en partant de commentaires particuliers insérés dans le code source des classes (/** … */). On peut ainsi documenter les paquetages, classes ou interfaces, variables d’instance, méthodes,...\n",
    "\n",
    "Les commentaires peuvent contenir du texte simple et des balises HTML de mise en forme de texte (`<I>` italique, `<B>` caractère gras, ...). On peut utiliser la balise `<code>` pour inclure du code dans les commentaires. Des balises spéciaux appelées annotations qui commencent par le caractère @ (@author, @version, @param,... ) sont définies pour fixer des valeurs standards. Les commentaires doivent être placées juste avant ce qu’ils commentent. Lire cette page : https://docs.oracle.com/javase/8/docs/technotes/tools/unix/javadoc.html\n",
    "\n",
    "```java\n",
    "/**\n",
    " * A class representing a window on the screen.\n",
    " * For example:\n",
    " * <pre>\n",
    " *    Window win = new Window(parent);\n",
    " *    win.show();\n",
    " * </pre>\n",
    " *\n",
    " * @author  Sami Shaio\n",
    " * @version 1.13, 06/08/06\n",
    " * @see     java.awt.BaseWindow\n",
    " * @see     java.awt.Button\n",
    " */\n",
    "class Window extends BaseWindow {\n",
    "   \n",
    "    ...\n",
    "    \n",
    "    /**\n",
    "     * The X-coordinate of the component.\n",
    "     *\n",
    "     * @see #getLocation()\n",
    "     */\n",
    "    int x = 1263732; \n",
    "   \n",
    "    ...\n",
    "    \n",
    "   /**\n",
    "     * Returns the character at the specified index. An index \n",
    "     * ranges from <code>0</code> to <code>length() - 1</code>\n",
    "     *\n",
    "     * @param     index the index of the desired character.\n",
    "     * @return    the desired character.\n",
    "     * @exception StringIndexOutOfRangeException \n",
    "     *              if the index is not in the range <code>0</code> \n",
    "     *              to <code>length()-1</code>\n",
    "     * @see       java.lang.Character#charValue()\n",
    "     */\n",
    "    public char charAt(int index) {\n",
    "       ...\n",
    "    }\n",
    "        \n",
    "}\n",
    "```\n",
    "    \n",
    "    \n",
    "De plus, il est rappelé que le langage Java est entouré d’un ensemble de bonnes pratiques. \n",
    "La page http://www.oracle.com/technetwork/java/javase/documentation/index-137868.html présente les habitudes dans le cadre du langage java. \n",
    "\n",
    "Pensez à ajouter les commentaires pour les packages (cf. package-info.java)\n",
    "\n",
    "### Génération\n",
    "\n",
    "A partir de maintenant, tous vos programmes seront commentés. \n",
    "Générer la documentation depuis votre répertoire de projet avec la commande: "
   ]
  },
  {
   "cell_type": "code",
   "execution_count": 5,
   "metadata": {
    "slideshow": {
     "slide_type": "subslide"
    }
   },
   "outputs": [
    {
     "name": "stdout",
     "output_type": "stream",
     "text": [
      "/home/jovyan/work/src/Projects/helloworld\n"
     ]
    },
    {
     "name": "stderr",
     "output_type": "stream",
     "text": [
      "Loading source files for package fr.univtln.bruno.tp.tp1...\n",
      "Constructing Javadoc information...\n",
      "Creating destination directory: \"doc/\"\n",
      "Building index for all the packages and classes...\n",
      "Standard Doclet version 17+35\n",
      "Building tree for all the packages and classes...\n",
      "Generating doc/fr/univtln/bruno/tp/tp1/HelloWorld.html...\n",
      "Generating doc/fr/univtln/bruno/tp/tp1/package-summary.html...\n",
      "Generating doc/fr/univtln/bruno/tp/tp1/package-tree.html...\n",
      "Generating doc/overview-tree.html...\n",
      "Building index for all classes...\n",
      "Generating doc/allclasses-index.html...\n",
      "Generating doc/allpackages-index.html...\n",
      "Generating doc/index-all.html...\n",
      "Generating doc/index.html...\n",
      "Generating doc/help-doc.html...\n"
     ]
    }
   ],
   "source": [
    "%%shell\n",
    "cd \"/home/jovyan/work/src/Projects/helloworld\"\n",
    "pwd\n",
    "javadoc -d doc -sourcepath src -subpackages fr.univtln.bruno.tp.tp1"
   ]
  },
  {
   "cell_type": "markdown",
   "metadata": {},
   "source": [
    "La documentation peut alors être consultée à partir du fichier [/home/jovyan/work/src/Projects/helloworld/doc/index.html](/home/jovyan/work/src/Projects/helloworld/doc/index.html)"
   ]
  },
  {
   "cell_type": "markdown",
   "metadata": {
    "slideshow": {
     "slide_type": "slide"
    }
   },
   "source": [
    "## Générer et exécuter l’archive jar\n",
    "Génerer l’archive de votre projet depuis votre répertoire de projet avec la commande : "
   ]
  },
  {
   "cell_type": "code",
   "execution_count": 6,
   "metadata": {},
   "outputs": [
    {
     "name": "stdout",
     "output_type": "stream",
     "text": [
      "added manifest\n",
      "adding: fr/(in = 0) (out= 0)(stored 0%)\n",
      "adding: fr/univtln/(in = 0) (out= 0)(stored 0%)\n",
      "adding: fr/univtln/bruno/(in = 0) (out= 0)(stored 0%)\n",
      "adding: fr/univtln/bruno/tp/(in = 0) (out= 0)(stored 0%)\n",
      "adding: fr/univtln/bruno/tp/tp1/(in = 0) (out= 0)(stored 0%)\n",
      "adding: fr/univtln/bruno/tp/tp1/HelloWorld.class(in = 979) (out= 564)(deflated 42%)\n"
     ]
    }
   ],
   "source": [
    "%%shell\n",
    "cd \"/home/jovyan/work/src/Projects/helloworld\"\n",
    "mkdir -p dist\n",
    "cd bin\n",
    "jar cvf ../dist/tp.jar fr\n",
    "cd .."
   ]
  },
  {
   "cell_type": "markdown",
   "metadata": {},
   "source": [
    "Exécuter le programme en ajoutant le jar au classpath et en indiquant la classe exécutable avec la commande suivante : "
   ]
  },
  {
   "cell_type": "code",
   "execution_count": 7,
   "metadata": {},
   "outputs": [
    {
     "name": "stdout",
     "output_type": "stream",
     "text": [
      "Bonjour Max\n"
     ]
    }
   ],
   "source": [
    "%%shell\n",
    "cd \"/home/jovyan/work/src/Projects/helloworld\"\n",
    "java -cp dist/tp.jar fr.univtln.bruno.tp.tp1.HelloWorld Max"
   ]
  },
  {
   "cell_type": "markdown",
   "metadata": {
    "slideshow": {
     "slide_type": "subslide"
    }
   },
   "source": [
    "Il est possible de rendre le jar “exécutable” en créant un fichier manifest qui indique en particulier quelle est la classe exécutable.\n",
    "\n",
    "Copier le fichier monManifest de [monmanifest.zip](https://bruno.univ-tln.fr/_media/enseignement/m1/ssi3/monmanifest.zip) dans le répertoire de projet et regarder son contenu. Recréer le fichier .jar en précisant le manifeste à ajouter : "
   ]
  },
  {
   "cell_type": "code",
   "execution_count": 8,
   "metadata": {},
   "outputs": [
    {
     "name": "stdout",
     "output_type": "stream",
     "text": [
      "added manifest\n",
      "adding: fr/(in = 0) (out= 0)(stored 0%)\n",
      "adding: fr/univtln/(in = 0) (out= 0)(stored 0%)\n",
      "adding: fr/univtln/bruno/(in = 0) (out= 0)(stored 0%)\n",
      "adding: fr/univtln/bruno/tp/(in = 0) (out= 0)(stored 0%)\n",
      "adding: fr/univtln/bruno/tp/tp1/(in = 0) (out= 0)(stored 0%)\n",
      "adding: fr/univtln/bruno/tp/tp1/HelloWorld.class(in = 979) (out= 564)(deflated 42%)\n"
     ]
    }
   ],
   "source": [
    "%%shell\n",
    "cd \"/home/jovyan/work/src/Projects/helloworld\"\n",
    "cd bin\n",
    "jar cvfm ../dist/tp.jar ../monManifest fr\n",
    "cd .."
   ]
  },
  {
   "cell_type": "markdown",
   "metadata": {},
   "source": [
    "Puis exécuter directement l’archive : "
   ]
  },
  {
   "cell_type": "code",
   "execution_count": 9,
   "metadata": {},
   "outputs": [
    {
     "name": "stdout",
     "output_type": "stream",
     "text": [
      "Bonjour Pierre\n"
     ]
    }
   ],
   "source": [
    "%%shell\n",
    "cd \"/home/jovyan/work/src/Projects/helloworld\"\n",
    "java -jar dist/tp.jar Pierre"
   ]
  },
  {
   "cell_type": "code",
   "execution_count": null,
   "metadata": {},
   "outputs": [],
   "source": []
  }
 ],
 "metadata": {
  "kernelspec": {
   "display_name": "Java [conda env:root] *",
   "language": "java",
   "name": "conda-root-java"
  },
  "language_info": {
   "codemirror_mode": "java",
   "file_extension": ".jshell",
   "mimetype": "text/x-java-source",
   "name": "Java",
   "pygments_lexer": "java",
   "version": "17+35"
  }
 },
 "nbformat": 4,
 "nbformat_minor": 4
}
