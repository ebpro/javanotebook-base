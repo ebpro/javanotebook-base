{
 "cells": [
  {
   "cell_type": "markdown",
   "metadata": {},
   "source": [
    "# Introduction à Maven\n",
    "Maven est un outil de gestion de projet Java. Il permet de gérer la compilation, la documentation, les dépendances, les systèmes de gestion de version de code source, les release et la distributions.\n",
    "\n",
    "Les objets manipulés par maven (bibliothèques java,modèles de projets, plugin de maven, ...) sont appelés des artefacts. Ils sont indiqués par des coordonnées composées d'un groupId (qui regroupe fonctionnellement des artefacts), d'un artefactId et d'une version."
   ]
  },
  {
   "cell_type": "markdown",
   "metadata": {
    "slideshow": {
     "slide_type": "slide"
    }
   },
   "source": [
    "## Création d'un projet Maven\n",
    "Un projet maven peut être créé à partir d'un Archetype Maven.  Les options `archetypeGroupId`, `archetypeArtifactId` et `archetypeVersion` indiquent les coordonnées de l'archetype. Les options `groupId`, `artifactId` et `version` indiquent les coordonnées du projet qui va être créé.\n",
    "\n",
    "Dans l'exemple ci-dessous l'archetype utilisé est un projet Java de base."
   ]
  },
  {
   "cell_type": "code",
   "execution_count": 1,
   "metadata": {},
   "outputs": [
    {
     "name": "stdout",
     "output_type": "stream",
     "text": [
      "[INFO] Scanning for projects...\n",
      "[INFO] \n",
      "[INFO] ------------------< org.apache.maven:standalone-pom >-------------------\n",
      "[INFO] Building Maven Stub Project (No POM) 1\n",
      "[INFO] --------------------------------[ pom ]---------------------------------\n",
      "[INFO] \n",
      "[INFO] >>> maven-archetype-plugin:3.2.0:generate (default-cli) > generate-sources @ standalone-pom >>>\n",
      "[INFO] \n",
      "[INFO] <<< maven-archetype-plugin:3.2.0:generate (default-cli) < generate-sources @ standalone-pom <<<\n",
      "[INFO] \n",
      "[INFO] \n",
      "[INFO] --- maven-archetype-plugin:3.2.0:generate (default-cli) @ standalone-pom ---\n",
      "[INFO] Generating project in Batch mode\n",
      "[INFO] Archetype repository not defined. Using the one from [org.apache.maven.archetypes:maven-archetype-quickstart:1.4] found in catalog remote\n",
      "[INFO] ----------------------------------------------------------------------------\n",
      "[INFO] Using following parameters for creating project from Archetype: maven-archetype-quickstart:1.4\n",
      "[INFO] ----------------------------------------------------------------------------\n",
      "[INFO] Parameter: groupId, Value: fr.univtln.bruno\n",
      "[INFO] Parameter: artifactId, Value: MyAppHelloWorld\n",
      "[INFO] Parameter: version, Value: 1.0-SNAPSHOT\n",
      "[INFO] Parameter: package, Value: fr.univtln.bruno\n",
      "[INFO] Parameter: packageInPathFormat, Value: fr/univtln/bruno\n",
      "[INFO] Parameter: package, Value: fr.univtln.bruno\n",
      "[INFO] Parameter: groupId, Value: fr.univtln.bruno\n",
      "[INFO] Parameter: artifactId, Value: MyAppHelloWorld\n",
      "[INFO] Parameter: version, Value: 1.0-SNAPSHOT\n",
      "[INFO] Project created from Archetype in dir: /home/jovyan/work/src/MyAppHelloWorld\n",
      "[INFO] ------------------------------------------------------------------------\n",
      "[INFO] BUILD SUCCESS\n",
      "[INFO] ------------------------------------------------------------------------\n",
      "[INFO] Total time:  7.895 s\n",
      "[INFO] Finished at: 2021-10-13T08:21:33Z\n",
      "[INFO] ------------------------------------------------------------------------\n"
     ]
    }
   ],
   "source": [
    "%%shell\n",
    "mkdir -p /home/jovyan/work/src\n",
    "cd '/home/jovyan/work/src'\n",
    "# Removes the project if necessary\n",
    "rm -rf MyAppHelloWorld || true\n",
    "\n",
    "# Create a new project from a Maven Archetype\n",
    "# L'option -ntp cache les messages de téléchargement\n",
    "mvn -ntp archetype:generate -B \\\n",
    " -DarchetypeGroupId=org.apache.maven.archetypes \\\n",
    " -DarchetypeArtifactId=maven-archetype-quickstart \\\n",
    " -DarchetypeVersion=1.4 \\\n",
    " -DgroupId=fr.univtln.bruno \\\n",
    " -DartifactId=MyAppHelloWorld \\\n",
    " -Dversion=1.0-SNAPSHOT"
   ]
  },
  {
   "cell_type": "code",
   "execution_count": 3,
   "metadata": {
    "slideshow": {
     "slide_type": "subslide"
    }
   },
   "outputs": [
    {
     "name": "stdout",
     "output_type": "stream",
     "text": [
      "/home/jovyan/work/src/MyAppHelloWorld\n",
      "├── pom.xml\n",
      "└── src\n",
      "    ├── main\n",
      "    │   └── java\n",
      "    │       └── fr\n",
      "    │           └── univtln\n",
      "    │               └── bruno\n",
      "    │                   └── App.java\n",
      "    └── test\n",
      "        └── java\n",
      "            └── fr\n",
      "                └── univtln\n",
      "                    └── bruno\n",
      "                        └── AppTest.java\n",
      "\n",
      "11 directories, 3 files\n"
     ]
    }
   ],
   "source": [
    "%%shell\n",
    "tree \"/home/jovyan/work/src/MyAppHelloWorld\""
   ]
  },
  {
   "cell_type": "markdown",
   "metadata": {},
   "source": [
    " On peut ensuite compiler le projet depuis l'intérieur du projet (le dossier contenant le fichier `pom.xml`). Les classes sont produites dans le sous-répertoire `target/classes`. Le programme peut être exécuté avec la commande `java` en ajoutant ce répertoire au classpath si aucune dépendance externe n'est nécessaire."
   ]
  },
  {
   "cell_type": "code",
   "execution_count": 7,
   "metadata": {},
   "outputs": [
    {
     "name": "stdout",
     "output_type": "stream",
     "text": [
      "[INFO] Scanning for projects...\n",
      "[INFO] \n",
      "[INFO] ------------------< fr.univtln.bruno:MyAppHelloWorld >------------------\n",
      "[INFO] Building MyAppHelloWorld 1.0-SNAPSHOT\n",
      "[INFO] --------------------------------[ jar ]---------------------------------\n",
      "[INFO] \n",
      "[INFO] --- maven-resources-plugin:3.0.2:resources (default-resources) @ MyAppHelloWorld ---\n",
      "[INFO] Using 'UTF-8' encoding to copy filtered resources.\n",
      "[INFO] skip non existing resourceDirectory /home/jovyan/work/src/MyAppHelloWorld/src/main/resources\n",
      "[INFO] \n",
      "[INFO] --- maven-compiler-plugin:3.8.0:compile (default-compile) @ MyAppHelloWorld ---\n",
      "[INFO] Nothing to compile - all classes are up to date\n",
      "[INFO] ------------------------------------------------------------------------\n",
      "[INFO] BUILD SUCCESS\n",
      "[INFO] ------------------------------------------------------------------------\n",
      "[INFO] Total time:  0.494 s\n",
      "[INFO] Finished at: 2021-10-13T08:23:26Z\n",
      "[INFO] ------------------------------------------------------------------------\n",
      ".\n",
      "├── pom.xml\n",
      "├── src\n",
      "│   ├── main\n",
      "│   │   └── java\n",
      "│   │       └── fr\n",
      "│   │           └── univtln\n",
      "│   │               └── bruno\n",
      "│   │                   └── App.java\n",
      "│   └── test\n",
      "│       └── java\n",
      "│           └── fr\n",
      "│               └── univtln\n",
      "│                   └── bruno\n",
      "│                       └── AppTest.java\n",
      "└── target\n",
      "    ├── classes\n",
      "    │   └── fr\n",
      "    │       └── univtln\n",
      "    │           └── bruno\n",
      "    │               └── App.class\n",
      "    ├── generated-sources\n",
      "    │   └── annotations\n",
      "    ├── generated-test-sources\n",
      "    │   └── test-annotations\n",
      "    ├── maven-archiver\n",
      "    │   └── pom.properties\n",
      "    ├── maven-status\n",
      "    │   └── maven-compiler-plugin\n",
      "    │       ├── compile\n",
      "    │       │   └── default-compile\n",
      "    │       │       ├── createdFiles.lst\n",
      "    │       │       └── inputFiles.lst\n",
      "    │       └── testCompile\n",
      "    │           └── default-testCompile\n",
      "    │               ├── createdFiles.lst\n",
      "    │               └── inputFiles.lst\n",
      "    ├── MyAppHelloWorld-1.0-SNAPSHOT.jar\n",
      "    ├── surefire-reports\n",
      "    │   ├── fr.univtln.bruno.AppTest.txt\n",
      "    │   └── TEST-fr.univtln.bruno.AppTest.xml\n",
      "    └── test-classes\n",
      "        └── fr\n",
      "            └── univtln\n",
      "                └── bruno\n",
      "                    └── AppTest.class\n",
      "\n",
      "32 directories, 13 files\n",
      "Hello World!\n"
     ]
    }
   ],
   "source": [
    "%%shell\n",
    "cd \"/home/jovyan/work/src/MyAppHelloWorld\"\n",
    "mvn -ntp compile\n",
    "tree .\n",
    "java -cp target/classes fr.univtln.bruno.App"
   ]
  },
  {
   "cell_type": "markdown",
   "metadata": {},
   "source": [
    "Il est aussi possible d'en faire une archive java (fichier .jar) dans le sous-répertoire `target`."
   ]
  },
  {
   "cell_type": "code",
   "execution_count": 8,
   "metadata": {
    "slideshow": {
     "slide_type": "slide"
    }
   },
   "outputs": [
    {
     "name": "stdout",
     "output_type": "stream",
     "text": [
      "[INFO] Scanning for projects...\n",
      "[INFO] \n",
      "[INFO] ------------------< fr.univtln.bruno:MyAppHelloWorld >------------------\n",
      "[INFO] Building MyAppHelloWorld 1.0-SNAPSHOT\n",
      "[INFO] --------------------------------[ jar ]---------------------------------\n",
      "[INFO] \n",
      "[INFO] --- maven-resources-plugin:3.0.2:resources (default-resources) @ MyAppHelloWorld ---\n",
      "[INFO] Using 'UTF-8' encoding to copy filtered resources.\n",
      "[INFO] skip non existing resourceDirectory /home/jovyan/work/src/MyAppHelloWorld/src/main/resources\n",
      "[INFO] \n",
      "[INFO] --- maven-compiler-plugin:3.8.0:compile (default-compile) @ MyAppHelloWorld ---\n",
      "[INFO] Nothing to compile - all classes are up to date\n",
      "[INFO] \n",
      "[INFO] --- maven-resources-plugin:3.0.2:testResources (default-testResources) @ MyAppHelloWorld ---\n",
      "[INFO] Using 'UTF-8' encoding to copy filtered resources.\n",
      "[INFO] skip non existing resourceDirectory /home/jovyan/work/src/MyAppHelloWorld/src/test/resources\n",
      "[INFO] \n",
      "[INFO] --- maven-compiler-plugin:3.8.0:testCompile (default-testCompile) @ MyAppHelloWorld ---\n",
      "[INFO] Nothing to compile - all classes are up to date\n",
      "[INFO] \n",
      "[INFO] --- maven-surefire-plugin:2.22.1:test (default-test) @ MyAppHelloWorld ---\n",
      "[INFO] \n",
      "[INFO] -------------------------------------------------------\n",
      "[INFO]  T E S T S\n",
      "[INFO] -------------------------------------------------------\n",
      "[INFO] Running fr.univtln.bruno.AppTest\n",
      "[INFO] Tests run: 1, Failures: 0, Errors: 0, Skipped: 0, Time elapsed: 0.028 s - in fr.univtln.bruno.AppTest\n",
      "[INFO] \n",
      "[INFO] Results:\n",
      "[INFO] \n",
      "[INFO] Tests run: 1, Failures: 0, Errors: 0, Skipped: 0\n",
      "[INFO] \n",
      "[INFO] \n",
      "[INFO] --- maven-jar-plugin:3.0.2:jar (default-jar) @ MyAppHelloWorld ---\n",
      "[INFO] ------------------------------------------------------------------------\n",
      "[INFO] BUILD SUCCESS\n",
      "[INFO] ------------------------------------------------------------------------\n",
      "[INFO] Total time:  1.485 s\n",
      "[INFO] Finished at: 2021-10-13T08:23:43Z\n",
      "[INFO] ------------------------------------------------------------------------\n",
      ".\n",
      "├── pom.xml\n",
      "├── src\n",
      "│   ├── main\n",
      "│   │   └── java\n",
      "│   │       └── fr\n",
      "│   │           └── univtln\n",
      "│   │               └── bruno\n",
      "│   │                   └── App.java\n",
      "│   └── test\n",
      "│       └── java\n",
      "│           └── fr\n",
      "│               └── univtln\n",
      "│                   └── bruno\n",
      "│                       └── AppTest.java\n",
      "└── target\n",
      "    ├── classes\n",
      "    │   └── fr\n",
      "    │       └── univtln\n",
      "    │           └── bruno\n",
      "    │               └── App.class\n",
      "    ├── generated-sources\n",
      "    │   └── annotations\n",
      "    ├── generated-test-sources\n",
      "    │   └── test-annotations\n",
      "    ├── maven-archiver\n",
      "    │   └── pom.properties\n",
      "    ├── maven-status\n",
      "    │   └── maven-compiler-plugin\n",
      "    │       ├── compile\n",
      "    │       │   └── default-compile\n",
      "    │       │       ├── createdFiles.lst\n",
      "    │       │       └── inputFiles.lst\n",
      "    │       └── testCompile\n",
      "    │           └── default-testCompile\n",
      "    │               ├── createdFiles.lst\n",
      "    │               └── inputFiles.lst\n",
      "    ├── MyAppHelloWorld-1.0-SNAPSHOT.jar\n",
      "    ├── surefire-reports\n",
      "    │   ├── fr.univtln.bruno.AppTest.txt\n",
      "    │   └── TEST-fr.univtln.bruno.AppTest.xml\n",
      "    └── test-classes\n",
      "        └── fr\n",
      "            └── univtln\n",
      "                └── bruno\n",
      "                    └── AppTest.class\n",
      "\n",
      "32 directories, 13 files\n",
      "Hello World!\n"
     ]
    }
   ],
   "source": [
    "%%shell\n",
    "cd \"/home/jovyan/work/src/MyAppHelloWorld\"\n",
    "mvn -ntp package\n",
    "tree .\n",
    "java -cp target/MyAppHelloWorld-1.0-SNAPSHOT.jar fr.univtln.bruno.App"
   ]
  },
  {
   "cell_type": "markdown",
   "metadata": {},
   "source": [
    "Maven permet aussi d'exécuter une classe Java en prenant en charge automatiquement le classpath y compris les dépendances."
   ]
  },
  {
   "cell_type": "code",
   "execution_count": 10,
   "metadata": {},
   "outputs": [
    {
     "name": "stdout",
     "output_type": "stream",
     "text": [
      "[INFO] Scanning for projects...\n",
      "[INFO] \n",
      "[INFO] ------------------< fr.univtln.bruno:MyAppHelloWorld >------------------\n",
      "[INFO] Building MyAppHelloWorld 1.0-SNAPSHOT\n",
      "[INFO] --------------------------------[ jar ]---------------------------------\n",
      "[INFO] \n",
      "[INFO] --- exec-maven-plugin:3.0.0:java (default-cli) @ MyAppHelloWorld ---\n",
      "Hello World!\n",
      "[INFO] ------------------------------------------------------------------------\n",
      "[INFO] BUILD SUCCESS\n",
      "[INFO] ------------------------------------------------------------------------\n",
      "[INFO] Total time:  0.624 s\n",
      "[INFO] Finished at: 2021-10-13T08:24:04Z\n",
      "[INFO] ------------------------------------------------------------------------\n"
     ]
    }
   ],
   "source": [
    "%%shell\n",
    "cd \"/home/jovyan/work/src/MyAppHelloWorld\"\n",
    "mvn -ntp exec:java  -Dexec.mainClass=\"fr.univtln.bruno.App\" "
   ]
  },
  {
   "cell_type": "markdown",
   "metadata": {},
   "source": [
    "Le projet peut être paramétrer en modifiant le fichier `pom.xml`.\n",
    "Il est possible de modifier le nom du projet, son URL et d'ajouter des métadonnées.\n",
    "\n",
    "La construction du projet est contrôle par des plugins paramétrés dans la section `build/plugins`.\n",
    "\n",
    "Par exemple, il est possible de changer la version du code source acceptée pour ce projet et celle du bytecode java produit. \n",
    "```xml\n",
    "<plugins>\n",
    "    <plugin>    \n",
    "        <artifactId>maven-compiler-plugin</artifactId>\n",
    "        <configuration>\n",
    "            <source>1.8</source>\n",
    "            <target>1.8</target>\n",
    "        </configuration>\n",
    "    </plugin>\n",
    "</plugins>\n",
    "```\n",
    "\n",
    "à partir de java 9 la syntaxe suivante est possible \n",
    "```xml\n",
    "<plugin>\n",
    "    <groupId>org.apache.maven.plugins</groupId>\n",
    "    <artifactId>maven-compiler-plugin</artifactId>\n",
    "    <version>3.8.0</version>\n",
    "    <configuration>\n",
    "        <release>8</release>\n",
    "    </configuration>\n",
    "</plugin>\n",
    "```\n",
    "\n",
    "La commande `javap` affiche la version du bytecode.\n",
    "D'après [https://en.wikipedia.org/wiki/Java_class_file](wikipedia) les versions majeures sont :\n",
    "```\n",
    "Java SE 15 = 59 (0x3B hex)\n",
    "Java SE 14 = 58 (0x3A hex)\n",
    "Java SE 13 = 57 (0x39 hex)\n",
    "Java SE 12 = 56 (0x38 hex)\n",
    "Java SE 11 = 55 (0x37 hex)\n",
    "Java SE 10 = 54 (0x36 hex)\n",
    "Java SE 9 = 53 (0x35 hex)\n",
    "Java SE 8 = 52 (0x34 hex)\n",
    "Java SE 7 = 51 (0x33 hex)\n",
    "Java SE 6.0 = 50 (0x32 hex)\n",
    "Java SE 5.0 = 49 (0x31 hex)\n",
    "JDK 1.4 = 48 (0x30 hex)\n",
    "JDK 1.3 = 47 (0x2F hex)\n",
    "JDK 1.2 = 46 (0x2E hex)\n",
    "JDK 1.1 = 45 (0x2D hex)\n",
    "```\n",
    "\n",
    "Le modèle de projet utilisé fixe la version de Java à 7 (même si le compilateur est d'une version supérieur)."
   ]
  },
  {
   "cell_type": "code",
   "execution_count": 15,
   "metadata": {},
   "outputs": [
    {
     "name": "stdout",
     "output_type": "stream",
     "text": [
      "The installed jdk version :\n",
      "javac 17\n",
      "Bytecode version of the main Java class :\n",
      "  minor version: 0\n",
      "  major version: 58\n"
     ]
    }
   ],
   "source": [
    "%%shell\n",
    "cd \"/home/jovyan/work/src/MyAppHelloWorld\"\n",
    "echo \"The installed jdk version :\"\n",
    "javac --version\n",
    "echo \"Bytecode version of the main Java class :\"\n",
    "# Get bytecode version\n",
    "javap -v -c target/classes/fr/univtln/bruno/App.class | grep version"
   ]
  },
  {
   "cell_type": "markdown",
   "metadata": {},
   "source": [
    "En modifiant le `pom.xml` en utilisant [sample-pom.xml](sample-pom.xml) on passe la version à 14 de java et donc celle du bytecode augmente."
   ]
  },
  {
   "cell_type": "code",
   "execution_count": 16,
   "metadata": {},
   "outputs": [
    {
     "name": "stdout",
     "output_type": "stream",
     "text": [
      "  minor version: 0\n",
      "  major version: 58\n"
     ]
    }
   ],
   "source": [
    "%%shell\n",
    "cd \"/home/jovyan/work/src/MyAppHelloWorld\"\n",
    "# Use a new pom.xml, package and check the bytecode version\n",
    "# the pom sets java version to 14.\n",
    "# upgrade bytecode version\n",
    "# build a executable jar with all dependencies\n",
    "\\cp '/home/jovyan/javanotebook-base/resources/01.02/sample-pom.xml' 'pom.xml'\n",
    "mvn -ntp -q clean package\n",
    "javap -v -c target/classes/fr/univtln/bruno/App.class|grep version"
   ]
  },
  {
   "cell_type": "markdown",
   "metadata": {},
   "source": [
    "Il est aussi possible de produire des fichiers .jar qui incluent toutes les dépendances (cf. assembly-plugin dans [sample-pom.xml](sample-pom.xml))."
   ]
  },
  {
   "cell_type": "code",
   "execution_count": 17,
   "metadata": {},
   "outputs": [
    {
     "name": "stdout",
     "output_type": "stream",
     "text": [
      "Hello World!\n"
     ]
    }
   ],
   "source": [
    "%%shell\n",
    "cd \"/home/jovyan/work/src/MyAppHelloWorld\"\n",
    "java -jar target/MyApp-1.0-SNAPSHOT-jar-with-dependencies.jar"
   ]
  },
  {
   "cell_type": "markdown",
   "metadata": {},
   "source": [
    "Avec Maven, un fichier pom peut rapidement devenir volumineux. De plus, une base commune doit souvent être partagée entre plusieurs projets et/ou plusieurs membres d’une équipe. Comme il s’agit d’une modèle orienté objet, il est possible (et fortement conseillé) de factoriser les paramétrages commun dans un ou plusieurs pom parent. Par exemple, chaque pom d’un projet hérite de celui d’une équipe qui hérite de celui de l’entreprise.\n",
    "\n",
    "Pour créer un pom parent, il suffit de créer un projet contenant un fichier pom.xml dont le packaging est pom puis de le déposer dans un repository commun (mvn install sur chaque ou de façon plus réaliste utilisation d’un entrepôt maven).\n",
    "\n",
    "```xml\n",
    "<parent>\n",
    " <groupId>...</groupId>\n",
    " <artifactId>...</artifactId>\n",
    " <version>...</version>\n",
    "</parent>\n",
    "```\n",
    "\n",
    "La commande `mvn help:effective-pom` permet de visualiser le pom après intégration des ancêtres (dont celui par défaut)."
   ]
  },
  {
   "cell_type": "markdown",
   "metadata": {},
   "source": [
    "Un pom parent est proposé ici https://github.com/emmanuelbruno/commonpom et l’artefact est disponible ici https://bintray.com/dptinfoutln/public/commonpom.\n",
    "\n",
    "Un archetype plus complet utilisant le pom parent précédent est proposé ici https://github.com/emmanuelbruno/javasimplearchetype pour l’utiliser :\n",
    "\n",
    " - ajouter l’entrepôt maven bintray à votre fichier `~/.m2/settings.xml` comme cela est indiqué dans le fichier [settings.xml](settings.xml)\n",
    " - puis lancer la création à partir de l'archetype :   "
   ]
  },
  {
   "cell_type": "code",
   "execution_count": 21,
   "metadata": {},
   "outputs": [
    {
     "name": "stdout",
     "output_type": "stream",
     "text": [
      "[INFO] Scanning for projects...\n",
      "[WARNING] Could not transfer metadata org.apache.maven.plugins/maven-metadata.xml from/to bintray-dptinfoutln-public (https://dl.bintray.com/dptinfoutln/public): authorization failed for https://dl.bintray.com/dptinfoutln/public/org/apache/maven/plugins/maven-metadata.xml, status: 403 Forbidden\n",
      "[WARNING] Could not transfer metadata org.codehaus.mojo/maven-metadata.xml from/to bintray-dptinfoutln-public (https://dl.bintray.com/dptinfoutln/public): authorization failed for https://dl.bintray.com/dptinfoutln/public/org/codehaus/mojo/maven-metadata.xml, status: 403 Forbidden\n",
      "[WARNING] Could not transfer metadata org.apache.maven.plugins:maven-archetype-plugin/maven-metadata.xml from/to bintray-dptinfoutln-public (https://dl.bintray.com/dptinfoutln/public): authorization failed for https://dl.bintray.com/dptinfoutln/public/org/apache/maven/plugins/maven-archetype-plugin/maven-metadata.xml, status: 403 Forbidden\n",
      "[INFO] \n",
      "[INFO] -----------------------< fr.univtln.bruno:MyApp >-----------------------\n",
      "[INFO] Building MyApp 1.0-SNAPSHOT\n",
      "[INFO] --------------------------------[ jar ]---------------------------------\n",
      "[WARNING] org.apache.maven.plugins/maven-metadata.xmlfailed to transfer from https://dl.bintray.com/dptinfoutln/public during a previous attempt. This failure was cached in the local repository and resolution will not be reattempted until the update interval of bintray-dptinfoutln-public has elapsed or updates are forced. Original error: Could not transfer metadata org.apache.maven.plugins/maven-metadata.xml from/to bintray-dptinfoutln-public (https://dl.bintray.com/dptinfoutln/public): authorization failed for https://dl.bintray.com/dptinfoutln/public/org/apache/maven/plugins/maven-metadata.xml, status: 403 Forbidden\n",
      "[WARNING] org.codehaus.mojo/maven-metadata.xmlfailed to transfer from https://dl.bintray.com/dptinfoutln/public during a previous attempt. This failure was cached in the local repository and resolution will not be reattempted until the update interval of bintray-dptinfoutln-public has elapsed or updates are forced. Original error: Could not transfer metadata org.codehaus.mojo/maven-metadata.xml from/to bintray-dptinfoutln-public (https://dl.bintray.com/dptinfoutln/public): authorization failed for https://dl.bintray.com/dptinfoutln/public/org/codehaus/mojo/maven-metadata.xml, status: 403 Forbidden\n",
      "[INFO] \n",
      "[INFO] >>> maven-archetype-plugin:3.2.0:generate (default-cli) > generate-sources @ MyApp >>>\n",
      "[INFO] \n",
      "[INFO] <<< maven-archetype-plugin:3.2.0:generate (default-cli) < generate-sources @ MyApp <<<\n",
      "[INFO] \n",
      "[INFO] \n",
      "[INFO] --- maven-archetype-plugin:3.2.0:generate (default-cli) @ MyApp ---\n",
      "[INFO] Generating project in Batch mode\n",
      "[WARNING] Archetype not found in any catalog. Falling back to central repository.\n",
      "[WARNING] Add a repository with id 'archetype' in your settings.xml if archetype's repository is elsewhere.\n",
      "[INFO] ------------------------------------------------------------------------\n",
      "[INFO] BUILD FAILURE\n",
      "[INFO] ------------------------------------------------------------------------\n",
      "[INFO] Total time:  13.885 s\n",
      "[INFO] Finished at: 2021-10-13T08:29:04Z\n",
      "[INFO] ------------------------------------------------------------------------\n",
      "[ERROR] Failed to execute goal org.apache.maven.plugins:maven-archetype-plugin:3.2.0:generate (default-cli) on project MyApp: The desired archetype does not exist (fr.univtln.bruno.archetype:javaSimpleArchetype:0.1.0-develop-6) -> [Help 1]\n",
      "[ERROR] \n",
      "[ERROR] To see the full stack trace of the errors, re-run Maven with the -e switch.\n",
      "[ERROR] Re-run Maven using the -X switch to enable full debug logging.\n",
      "[ERROR] \n",
      "[ERROR] For more information about the errors and possible solutions, please read the following articles:\n",
      "[ERROR] [Help 1] http://cwiki.apache.org/confluence/display/MAVEN/MojoFailureException\n"
     ]
    }
   ],
   "source": [
    "%%shell\n",
    "cd \"/home/jovyan/work/src/MyAppHelloWorld\"\n",
    "# use an external settings.xml \n",
    "# \\cp '/home/jovyan/javanotebook-base/resources/01.02/settings.xml' ~/.m2/\n",
    "\n",
    "# We remove the projet if it already exist.\n",
    "rm -rf 'MyPowerApp'\n",
    "\n",
    "mvn --settings /home/jovyan/javanotebook-base/resources/01.02/settings.xml \\\n",
    "    -ntp archetype:generate -B \\\n",
    "    -DarchetypeGroupId=fr.univtln.bruno.archetype \\\n",
    "    -DarchetypeArtifactId=javaSimpleArchetype \\\n",
    "    -DarchetypeVersion=0.1.0-develop-6 \\\n",
    "    -DgroupId=fr.univtln.bruno.test \\\n",
    "    -DartifactId=MyPowerApp \\\n",
    "    -Dversion=1.0-SNAPSHOT \\\n",
    "    -DprojectShortName=helloworld \\\n",
    "    -DgithubAccount=emmanuelbruno \\\n",
    "    -DUtlnEmail=emmanuel.bruno@univ-tln.fr"
   ]
  },
  {
   "cell_type": "code",
   "execution_count": 24,
   "metadata": {},
   "outputs": [
    {
     "name": "stdout",
     "output_type": "stream",
     "text": [
      "                                                                               \n",
      "-------------------------------------------------------\n",
      " T E S T S\n",
      "-------------------------------------------------------\n",
      "Running fr.univtln.bruno.test.AppTest\n",
      "Tests run: 2, Failures: 0, Errors: 0, Skipped: 1, Time elapsed: 0.101 sec - in fr.univtln.bruno.test.AppTest\n",
      "\n",
      "Results :\n",
      "\n",
      "Tests run: 2, Failures: 0, Errors: 0, Skipped: 1\n",
      "\n",
      "log4j:WARN No appenders could be found for logger (fr.univtln.bruno.test.App).\n",
      "log4j:WARN Please initialize the log4j system properly.\n",
      "log4j:WARN See http://logging.apache.org/log4j/1.2/faq.html#noconfig for more info.\n",
      "Hello world !\n"
     ]
    }
   ],
   "source": [
    "cd '/src/Projects/MyPowerApp'\n",
    "mvn -ntp -q package \n",
    "java -jar target/MyPowerApp-1.0-SNAPSHOT-withdependencies.jar"
   ]
  },
  {
   "cell_type": "code",
   "execution_count": null,
   "metadata": {},
   "outputs": [],
   "source": []
  }
 ],
 "metadata": {
  "kernelspec": {
   "display_name": "Java [conda env:root] *",
   "language": "java",
   "name": "conda-root-java"
  },
  "language_info": {
   "codemirror_mode": "java",
   "file_extension": ".jshell",
   "mimetype": "text/x-java-source",
   "name": "Java",
   "pygments_lexer": "java",
   "version": "17+35"
  }
 },
 "nbformat": 4,
 "nbformat_minor": 4
}
