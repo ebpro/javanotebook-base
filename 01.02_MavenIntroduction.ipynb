{
 "cells": [
  {
   "cell_type": "markdown",
   "metadata": {},
   "source": [
    "# Introduction à Maven\n",
    "Maven est un outil de gestion de projet Java. Il permet de gérer la compilation, la documentation, les dépendances, les systèmes de gestion de version de code source, les release et la distributions.\n",
    "\n",
    "Les objets manipulés par maven (bibliothèques java,modèles de projets, plugin de maven, ...) sont appelés des artefacts. Ils sont indiqués par des coordonnées composées d'un groupId (qui regroupe fonctionnellement des artefacts), d'un artefactId et d'une version."
   ]
  },
  {
   "cell_type": "markdown",
   "metadata": {
    "slideshow": {
     "slide_type": "slide"
    }
   },
   "source": [
    "## Création d'un projet Maven\n",
    "Un projet maven peut être créé à partir d'un Archetype Maven.  Les options `archetypeGroupId`, `archetypeArtifactId` et `archetypeVersion` indiquent les coordonnées de l'archetype. Les options `groupId`, `artifactId` et `version` indiquent les coordonnées du projet qui va être créé.\n",
    "\n",
    "Dans l'exemple ci-dessous l'archetype utilisé est un projet Java de base."
   ]
  },
  {
   "cell_type": "code",
   "execution_count": 11,
   "metadata": {},
   "outputs": [
    {
     "name": "stdout",
     "output_type": "stream",
     "text": [
      "[INFO] Scanning for projects...\n",
      "[INFO] \n",
      "[INFO] ------------------< org.apache.maven:standalone-pom >-------------------\n",
      "[INFO] Building Maven Stub Project (No POM) 1\n",
      "[INFO] --------------------------------[ pom ]---------------------------------\n",
      "[INFO] \n",
      "[INFO] >>> maven-archetype-plugin:3.2.0:generate (default-cli) > generate-sources @ standalone-pom >>>\n",
      "[INFO] \n",
      "[INFO] <<< maven-archetype-plugin:3.2.0:generate (default-cli) < generate-sources @ standalone-pom <<<\n",
      "[INFO] \n",
      "[INFO] \n",
      "[INFO] --- maven-archetype-plugin:3.2.0:generate (default-cli) @ standalone-pom ---\n",
      "[INFO] Generating project in Batch mode\n",
      "[WARNING] No archetype found in remote catalog. Defaulting to internal catalog\n",
      "[INFO] Archetype repository not defined. Using the one from [org.apache.maven.archetypes:maven-archetype-quickstart:1.1] found in catalog internal\n",
      "[INFO] ----------------------------------------------------------------------------\n",
      "[INFO] Using following parameters for creating project from Archetype: maven-archetype-quickstart:1.4\n",
      "[INFO] ----------------------------------------------------------------------------\n",
      "[INFO] Parameter: groupId, Value: fr.univtln.bruno\n",
      "[INFO] Parameter: artifactId, Value: MyAppHelloWorld\n",
      "[INFO] Parameter: version, Value: 1.0-SNAPSHOT\n",
      "[INFO] Parameter: package, Value: fr.univtln.bruno\n",
      "[INFO] Parameter: packageInPathFormat, Value: fr/univtln/bruno\n",
      "[INFO] Parameter: package, Value: fr.univtln.bruno\n",
      "[INFO] Parameter: groupId, Value: fr.univtln.bruno\n",
      "[INFO] Parameter: artifactId, Value: MyAppHelloWorld\n",
      "[INFO] Parameter: version, Value: 1.0-SNAPSHOT\n",
      "[INFO] Project created from Archetype in dir: /home/jovyan/work/src/MyAppHelloWorld\n",
      "[INFO] ------------------------------------------------------------------------\n",
      "[INFO] BUILD SUCCESS\n",
      "[INFO] ------------------------------------------------------------------------\n",
      "[INFO] Total time:  21.822 s\n",
      "[INFO] Finished at: 2021-10-14T09:22:57Z\n",
      "[INFO] ------------------------------------------------------------------------\n"
     ]
    }
   ],
   "source": [
    "%%shell\n",
    "mkdir -p /home/jovyan/work/src\n",
    "cd '/home/jovyan/work/src'\n",
    "# Removes the project if necessary\n",
    "rm -rf MyAppHelloWorld || true\n",
    "\n",
    "# Create a new project from a Maven Archetype\n",
    "# L'option -ntp cache les messages de téléchargement\n",
    "mvn -ntp archetype:generate -B \\\n",
    " -DarchetypeGroupId=org.apache.maven.archetypes \\\n",
    " -DarchetypeArtifactId=maven-archetype-quickstart \\\n",
    " -DarchetypeVersion=1.4 \\\n",
    " -DgroupId=fr.univtln.bruno \\\n",
    " -DartifactId=MyAppHelloWorld \\\n",
    " -Dversion=1.0-SNAPSHOT"
   ]
  },
  {
   "cell_type": "code",
   "execution_count": 12,
   "metadata": {
    "slideshow": {
     "slide_type": "subslide"
    }
   },
   "outputs": [
    {
     "name": "stdout",
     "output_type": "stream",
     "text": [
      "/home/jovyan/work/src/MyAppHelloWorld\n",
      "├── pom.xml\n",
      "└── src\n",
      "    ├── main\n",
      "    │   └── java\n",
      "    │       └── fr\n",
      "    │           └── univtln\n",
      "    │               └── bruno\n",
      "    │                   └── App.java\n",
      "    └── test\n",
      "        └── java\n",
      "            └── fr\n",
      "                └── univtln\n",
      "                    └── bruno\n",
      "                        └── AppTest.java\n",
      "\n",
      "11 directories, 3 files\n"
     ]
    }
   ],
   "source": [
    "%%shell\n",
    "tree \"/home/jovyan/work/src/MyAppHelloWorld\""
   ]
  },
  {
   "cell_type": "markdown",
   "metadata": {},
   "source": [
    " On peut ensuite compiler le projet depuis l'intérieur du projet (le dossier contenant le fichier `pom.xml`). Les classes sont produites dans le sous-répertoire `target/classes`. Le programme peut être exécuté avec la commande `java` en ajoutant ce répertoire au classpath si aucune dépendance externe n'est nécessaire."
   ]
  },
  {
   "cell_type": "code",
   "execution_count": 13,
   "metadata": {},
   "outputs": [
    {
     "name": "stdout",
     "output_type": "stream",
     "text": [
      "[INFO] Scanning for projects...\n",
      "[INFO] \n",
      "[INFO] ------------------< fr.univtln.bruno:MyAppHelloWorld >------------------\n",
      "[INFO] Building MyAppHelloWorld 1.0-SNAPSHOT\n",
      "[INFO] --------------------------------[ jar ]---------------------------------\n",
      "[INFO] \n",
      "[INFO] --- maven-resources-plugin:3.0.2:resources (default-resources) @ MyAppHelloWorld ---\n",
      "[INFO] Using 'UTF-8' encoding to copy filtered resources.\n",
      "[INFO] skip non existing resourceDirectory /home/jovyan/work/src/MyAppHelloWorld/src/main/resources\n",
      "[INFO] \n",
      "[INFO] --- maven-compiler-plugin:3.8.0:compile (default-compile) @ MyAppHelloWorld ---\n",
      "[INFO] Changes detected - recompiling the module!\n",
      "[INFO] Compiling 1 source file to /home/jovyan/work/src/MyAppHelloWorld/target/classes\n",
      "[INFO] ------------------------------------------------------------------------\n",
      "[INFO] BUILD SUCCESS\n",
      "[INFO] ------------------------------------------------------------------------\n",
      "[INFO] Total time:  1.518 s\n",
      "[INFO] Finished at: 2021-10-14T09:23:00Z\n",
      "[INFO] ------------------------------------------------------------------------\n",
      ".\n",
      "├── pom.xml\n",
      "├── src\n",
      "│   ├── main\n",
      "│   │   └── java\n",
      "│   │       └── fr\n",
      "│   │           └── univtln\n",
      "│   │               └── bruno\n",
      "│   │                   └── App.java\n",
      "│   └── test\n",
      "│       └── java\n",
      "│           └── fr\n",
      "│               └── univtln\n",
      "│                   └── bruno\n",
      "│                       └── AppTest.java\n",
      "└── target\n",
      "    ├── classes\n",
      "    │   └── fr\n",
      "    │       └── univtln\n",
      "    │           └── bruno\n",
      "    │               └── App.class\n",
      "    ├── generated-sources\n",
      "    │   └── annotations\n",
      "    └── maven-status\n",
      "        └── maven-compiler-plugin\n",
      "            └── compile\n",
      "                └── default-compile\n",
      "                    ├── createdFiles.lst\n",
      "                    └── inputFiles.lst\n",
      "\n",
      "22 directories, 6 files\n",
      "Hello World!\n"
     ]
    }
   ],
   "source": [
    "%%shell\n",
    "cd \"/home/jovyan/work/src/MyAppHelloWorld\"\n",
    "mvn -ntp compile\n",
    "tree .\n",
    "java -cp target/classes fr.univtln.bruno.App"
   ]
  },
  {
   "cell_type": "markdown",
   "metadata": {},
   "source": [
    "Il est aussi possible d'en faire une archive java (fichier .jar) dans le sous-répertoire `target`."
   ]
  },
  {
   "cell_type": "code",
   "execution_count": 14,
   "metadata": {
    "slideshow": {
     "slide_type": "slide"
    }
   },
   "outputs": [
    {
     "name": "stdout",
     "output_type": "stream",
     "text": [
      "[INFO] Scanning for projects...\n",
      "[INFO] \n",
      "[INFO] ------------------< fr.univtln.bruno:MyAppHelloWorld >------------------\n",
      "[INFO] Building MyAppHelloWorld 1.0-SNAPSHOT\n",
      "[INFO] --------------------------------[ jar ]---------------------------------\n",
      "[INFO] \n",
      "[INFO] --- maven-resources-plugin:3.0.2:resources (default-resources) @ MyAppHelloWorld ---\n",
      "[INFO] Using 'UTF-8' encoding to copy filtered resources.\n",
      "[INFO] skip non existing resourceDirectory /home/jovyan/work/src/MyAppHelloWorld/src/main/resources\n",
      "[INFO] \n",
      "[INFO] --- maven-compiler-plugin:3.8.0:compile (default-compile) @ MyAppHelloWorld ---\n",
      "[INFO] Nothing to compile - all classes are up to date\n",
      "[INFO] \n",
      "[INFO] --- maven-resources-plugin:3.0.2:testResources (default-testResources) @ MyAppHelloWorld ---\n",
      "[INFO] Using 'UTF-8' encoding to copy filtered resources.\n",
      "[INFO] skip non existing resourceDirectory /home/jovyan/work/src/MyAppHelloWorld/src/test/resources\n",
      "[INFO] \n",
      "[INFO] --- maven-compiler-plugin:3.8.0:testCompile (default-testCompile) @ MyAppHelloWorld ---\n",
      "[INFO] Changes detected - recompiling the module!\n",
      "[INFO] Compiling 1 source file to /home/jovyan/work/src/MyAppHelloWorld/target/test-classes\n",
      "[INFO] \n",
      "[INFO] --- maven-surefire-plugin:2.22.1:test (default-test) @ MyAppHelloWorld ---\n",
      "[INFO] \n",
      "[INFO] -------------------------------------------------------\n",
      "[INFO]  T E S T S\n",
      "[INFO] -------------------------------------------------------\n",
      "[INFO] Running fr.univtln.bruno.AppTest\n",
      "[INFO] Tests run: 1, Failures: 0, Errors: 0, Skipped: 0, Time elapsed: 0.049 s - in fr.univtln.bruno.AppTest\n",
      "[INFO] \n",
      "[INFO] Results:\n",
      "[INFO] \n",
      "[INFO] Tests run: 1, Failures: 0, Errors: 0, Skipped: 0\n",
      "[INFO] \n",
      "[INFO] \n",
      "[INFO] --- maven-jar-plugin:3.0.2:jar (default-jar) @ MyAppHelloWorld ---\n",
      "[INFO] Building jar: /home/jovyan/work/src/MyAppHelloWorld/target/MyAppHelloWorld-1.0-SNAPSHOT.jar\n",
      "[INFO] ------------------------------------------------------------------------\n",
      "[INFO] BUILD SUCCESS\n",
      "[INFO] ------------------------------------------------------------------------\n",
      "[INFO] Total time:  3.006 s\n",
      "[INFO] Finished at: 2021-10-14T09:23:05Z\n",
      "[INFO] ------------------------------------------------------------------------\n",
      ".\n",
      "├── pom.xml\n",
      "├── src\n",
      "│   ├── main\n",
      "│   │   └── java\n",
      "│   │       └── fr\n",
      "│   │           └── univtln\n",
      "│   │               └── bruno\n",
      "│   │                   └── App.java\n",
      "│   └── test\n",
      "│       └── java\n",
      "│           └── fr\n",
      "│               └── univtln\n",
      "│                   └── bruno\n",
      "│                       └── AppTest.java\n",
      "└── target\n",
      "    ├── classes\n",
      "    │   └── fr\n",
      "    │       └── univtln\n",
      "    │           └── bruno\n",
      "    │               └── App.class\n",
      "    ├── generated-sources\n",
      "    │   └── annotations\n",
      "    ├── generated-test-sources\n",
      "    │   └── test-annotations\n",
      "    ├── maven-archiver\n",
      "    │   └── pom.properties\n",
      "    ├── maven-status\n",
      "    │   └── maven-compiler-plugin\n",
      "    │       ├── compile\n",
      "    │       │   └── default-compile\n",
      "    │       │       ├── createdFiles.lst\n",
      "    │       │       └── inputFiles.lst\n",
      "    │       └── testCompile\n",
      "    │           └── default-testCompile\n",
      "    │               ├── createdFiles.lst\n",
      "    │               └── inputFiles.lst\n",
      "    ├── MyAppHelloWorld-1.0-SNAPSHOT.jar\n",
      "    ├── surefire-reports\n",
      "    │   ├── fr.univtln.bruno.AppTest.txt\n",
      "    │   └── TEST-fr.univtln.bruno.AppTest.xml\n",
      "    └── test-classes\n",
      "        └── fr\n",
      "            └── univtln\n",
      "                └── bruno\n",
      "                    └── AppTest.class\n",
      "\n",
      "32 directories, 13 files\n",
      "Hello World!\n"
     ]
    }
   ],
   "source": [
    "%%shell\n",
    "cd \"/home/jovyan/work/src/MyAppHelloWorld\"\n",
    "mvn -ntp package\n",
    "tree .\n",
    "java -cp target/MyAppHelloWorld-1.0-SNAPSHOT.jar fr.univtln.bruno.App"
   ]
  },
  {
   "cell_type": "markdown",
   "metadata": {},
   "source": [
    "Maven permet aussi d'exécuter une classe Java en prenant en charge automatiquement le classpath y compris les dépendances."
   ]
  },
  {
   "cell_type": "code",
   "execution_count": 15,
   "metadata": {},
   "outputs": [
    {
     "name": "stdout",
     "output_type": "stream",
     "text": [
      "[INFO] Scanning for projects...\n",
      "[INFO] \n",
      "[INFO] ------------------< fr.univtln.bruno:MyAppHelloWorld >------------------\n",
      "[INFO] Building MyAppHelloWorld 1.0-SNAPSHOT\n",
      "[INFO] --------------------------------[ jar ]---------------------------------\n",
      "[INFO] \n",
      "[INFO] --- exec-maven-plugin:3.0.0:java (default-cli) @ MyAppHelloWorld ---\n",
      "Hello World!\n",
      "[INFO] ------------------------------------------------------------------------\n",
      "[INFO] BUILD SUCCESS\n",
      "[INFO] ------------------------------------------------------------------------\n",
      "[INFO] Total time:  0.770 s\n",
      "[INFO] Finished at: 2021-10-14T09:23:07Z\n",
      "[INFO] ------------------------------------------------------------------------\n"
     ]
    }
   ],
   "source": [
    "%%shell\n",
    "cd \"/home/jovyan/work/src/MyAppHelloWorld\"\n",
    "mvn -ntp exec:java  -Dexec.mainClass=\"fr.univtln.bruno.App\" "
   ]
  },
  {
   "cell_type": "markdown",
   "metadata": {},
   "source": [
    "Le projet peut être paramétrer en modifiant le fichier `pom.xml`.\n",
    "Il est possible de modifier le nom du projet, son URL et d'ajouter des métadonnées.\n",
    "\n",
    "La construction du projet est contrôle par des plugins paramétrés dans la section `build/plugins`.\n",
    "\n",
    "Par exemple, il est possible de changer la version du code source acceptée pour ce projet et celle du bytecode java produit. \n",
    "```xml\n",
    "<plugins>\n",
    "    <plugin>    \n",
    "        <artifactId>maven-compiler-plugin</artifactId>\n",
    "        <configuration>\n",
    "            <source>1.8</source>\n",
    "            <target>1.8</target>\n",
    "        </configuration>\n",
    "    </plugin>\n",
    "</plugins>\n",
    "```\n",
    "\n",
    "à partir de java 9 la syntaxe suivante est possible \n",
    "```xml\n",
    "<plugin>\n",
    "    <groupId>org.apache.maven.plugins</groupId>\n",
    "    <artifactId>maven-compiler-plugin</artifactId>\n",
    "    <version>3.8.0</version>\n",
    "    <configuration>\n",
    "        <release>8</release>\n",
    "    </configuration>\n",
    "</plugin>\n",
    "```\n",
    "\n",
    "La commande `javap` affiche la version du bytecode.\n",
    "D'après [https://en.wikipedia.org/wiki/Java_class_file](wikipedia) les versions majeures sont :\n",
    "```\n",
    "Java SE 15 = 59 (0x3B hex)\n",
    "Java SE 14 = 58 (0x3A hex)\n",
    "Java SE 13 = 57 (0x39 hex)\n",
    "Java SE 12 = 56 (0x38 hex)\n",
    "Java SE 11 = 55 (0x37 hex)\n",
    "Java SE 10 = 54 (0x36 hex)\n",
    "Java SE 9 = 53 (0x35 hex)\n",
    "Java SE 8 = 52 (0x34 hex)\n",
    "Java SE 7 = 51 (0x33 hex)\n",
    "Java SE 6.0 = 50 (0x32 hex)\n",
    "Java SE 5.0 = 49 (0x31 hex)\n",
    "JDK 1.4 = 48 (0x30 hex)\n",
    "JDK 1.3 = 47 (0x2F hex)\n",
    "JDK 1.2 = 46 (0x2E hex)\n",
    "JDK 1.1 = 45 (0x2D hex)\n",
    "```\n",
    "\n",
    "Le modèle de projet utilisé fixe la version de Java à 7 (même si le compilateur est d'une version supérieur)."
   ]
  },
  {
   "cell_type": "code",
   "execution_count": 16,
   "metadata": {},
   "outputs": [
    {
     "name": "stdout",
     "output_type": "stream",
     "text": [
      "The installed jdk version :\n",
      "javac 17\n",
      "Bytecode version of the main Java class :\n",
      "  minor version: 0\n",
      "  major version: 51\n"
     ]
    }
   ],
   "source": [
    "%%shell\n",
    "cd \"/home/jovyan/work/src/MyAppHelloWorld\"\n",
    "echo \"The installed jdk version :\"\n",
    "javac --version\n",
    "echo \"Bytecode version of the main Java class :\"\n",
    "# Get bytecode version\n",
    "javap -v -c target/classes/fr/univtln/bruno/App.class | grep version"
   ]
  },
  {
   "cell_type": "markdown",
   "metadata": {},
   "source": [
    "En modifiant le `pom.xml` en utilisant [sample-pom.xml](sample-pom.xml) on passe la version à 14 de java et donc celle du bytecode augmente."
   ]
  },
  {
   "cell_type": "code",
   "execution_count": 17,
   "metadata": {},
   "outputs": [
    {
     "name": "stdout",
     "output_type": "stream",
     "text": [
      "  minor version: 0\n",
      "  major version: 58\n"
     ]
    }
   ],
   "source": [
    "%%shell\n",
    "cd \"/home/jovyan/work/src/MyAppHelloWorld\"\n",
    "# Use a new pom.xml, package and check the bytecode version\n",
    "# the pom sets java version to 14.\n",
    "# upgrade bytecode version\n",
    "# build a executable jar with all dependencies\n",
    "\\cp '/home/jovyan/javanotebook-base/resources/01.02/sample-pom.xml' 'pom.xml'\n",
    "mvn -ntp -q clean package\n",
    "javap -v -c target/classes/fr/univtln/bruno/App.class|grep version"
   ]
  },
  {
   "cell_type": "markdown",
   "metadata": {},
   "source": [
    "Il est aussi possible de produire des fichiers .jar qui incluent toutes les dépendances (cf. assembly-plugin dans [sample-pom.xml](sample-pom.xml))."
   ]
  },
  {
   "cell_type": "code",
   "execution_count": 18,
   "metadata": {},
   "outputs": [
    {
     "name": "stdout",
     "output_type": "stream",
     "text": [
      "Hello World!\n"
     ]
    }
   ],
   "source": [
    "%%shell\n",
    "cd \"/home/jovyan/work/src/MyAppHelloWorld\"\n",
    "java -jar target/MyApp-1.0-SNAPSHOT-jar-with-dependencies.jar"
   ]
  },
  {
   "cell_type": "markdown",
   "metadata": {},
   "source": [
    "Avec Maven, un fichier pom peut rapidement devenir volumineux. De plus, une base commune doit souvent être partagée entre plusieurs projets et/ou plusieurs membres d’une équipe. Comme il s’agit d’une modèle orienté objet, il est possible (et fortement conseillé) de factoriser les paramétrages commun dans un ou plusieurs pom parent. Par exemple, chaque pom d’un projet hérite de celui d’une équipe qui hérite de celui de l’entreprise.\n",
    "\n",
    "Pour créer un pom parent, il suffit de créer un projet contenant un fichier pom.xml dont le packaging est pom puis de le déposer dans un repository commun (mvn install sur chaque ou de façon plus réaliste utilisation d’un entrepôt maven).\n",
    "\n",
    "```xml\n",
    "<parent>\n",
    " <groupId>...</groupId>\n",
    " <artifactId>...</artifactId>\n",
    " <version>...</version>\n",
    "</parent>\n",
    "```\n",
    "\n",
    "La commande `mvn help:effective-pom` permet de visualiser le pom après intégration des ancêtres (dont celui par défaut)."
   ]
  },
  {
   "cell_type": "markdown",
   "metadata": {},
   "source": [
    "Un pom parent est proposé ici https://github.com/emmanuelbruno/commonpom et l’artefact est disponible ici https://bintray.com/dptinfoutln/public/commonpom.\n",
    "\n",
    "Un archetype plus complet utilisant le pom parent précédent est proposé ici https://github.com/emmanuelbruno/javasimplearchetype pour l’utiliser :\n",
    "\n",
    " - ajouter l’entrepôt maven bintray à votre fichier `~/.m2/settings.xml` comme cela est indiqué dans le fichier [settings.xml](settings.xml)\n",
    " - puis lancer la création à partir de l'archetype :   "
   ]
  },
  {
   "cell_type": "code",
   "execution_count": 6,
   "metadata": {},
   "outputs": [
    {
     "name": "stdout",
     "output_type": "stream",
     "text": [
      "[INFO] Scanning for projects...\n",
      "[INFO] \n",
      "[INFO] ------------------< org.apache.maven:standalone-pom >-------------------\n",
      "[INFO] Building Maven Stub Project (No POM) 1\n",
      "[INFO] --------------------------------[ pom ]---------------------------------\n",
      "[INFO] \n",
      "[INFO] >>> maven-archetype-plugin:3.2.0:generate (default-cli) > generate-sources @ standalone-pom >>>\n",
      "[INFO] \n",
      "[INFO] <<< maven-archetype-plugin:3.2.0:generate (default-cli) < generate-sources @ standalone-pom <<<\n",
      "[INFO] \n",
      "[INFO] \n",
      "[INFO] --- maven-archetype-plugin:3.2.0:generate (default-cli) @ standalone-pom ---\n",
      "[INFO] Generating project in Batch mode\n",
      "[WARNING] Archetype not found in any catalog. Falling back to central repository.\n",
      "[WARNING] Add a repository with id 'archetype' in your settings.xml if archetype's repository is elsewhere.\n",
      "[INFO] ----------------------------------------------------------------------------\n",
      "[INFO] Using following parameters for creating project from Archetype: demomavenarchetype:1.0-2021upgrade-SNAPSHOT\n",
      "[INFO] ----------------------------------------------------------------------------\n",
      "[INFO] Parameter: groupId, Value: fr.univtln.bruno.demos\n",
      "[INFO] Parameter: artifactId, Value: MyPowerApp\n",
      "[INFO] Parameter: version, Value: 1.0-SNAPSHOT\n",
      "[INFO] Parameter: package, Value: fr.univtln.bruno.demos\n",
      "[INFO] Parameter: packageInPathFormat, Value: fr/univtln/bruno/demos\n",
      "[INFO] Parameter: package, Value: fr.univtln.bruno.demos\n",
      "[INFO] Parameter: groupId, Value: fr.univtln.bruno.demos\n",
      "[INFO] Parameter: artifactId, Value: MyPowerApp\n",
      "[INFO] Parameter: githubAccount, Value: emmanuelbruno\n",
      "[INFO] Parameter: version, Value: 1.0-SNAPSHOT\n",
      "[WARNING] Don't override file /home/jovyan/work/src/MyPowerApp/src/main/java/fr/univtln/bruno/demos\n",
      "[WARNING] Don't override file /home/jovyan/work/src/MyPowerApp/src/test/java/fr/univtln/bruno/demos\n",
      "[INFO] Project created from Archetype in dir: /home/jovyan/work/src/MyPowerApp\n",
      "[INFO] ------------------------------------------------------------------------\n",
      "[INFO] BUILD SUCCESS\n",
      "[INFO] ------------------------------------------------------------------------\n",
      "[INFO] Total time:  2.630 s\n",
      "[INFO] Finished at: 2021-10-14T16:13:27Z\n",
      "[INFO] ------------------------------------------------------------------------\n"
     ]
    }
   ],
   "source": [
    "%%shell\n",
    "mkdir -p /home/jovyan/work/src\n",
    "cd \"/home/jovyan/work/src/\"\n",
    "# sets parameters in  settings.xml\n",
    "\\cp '/home/jovyan/javanotebook-base/resources/01.02/settings.xml' ~/.m2/settings.xml\n",
    "\n",
    "# We remove the projet if it already exist.\n",
    "rm -rf 'MyPowerApp'\n",
    "\n",
    "mvn -B -ntp archetype:generate \\\n",
    "     -DarchetypeGroupId=fr.univtln.bruno.demos.archetypes \\\n",
    "     -DarchetypeArtifactId=demomavenarchetype \\\n",
    "     -DarchetypeVersion=1.0-2021upgrade-SNAPSHOT \\\n",
    "     -DgithubAccount=emmanuelbruno \\\n",
    "     -DgroupId=fr.univtln.bruno.demos \\\n",
    "     -DartifactId=MyPowerApp \\\n",
    "     -Dversion=1.0-SNAPSHOT"
   ]
  },
  {
   "cell_type": "code",
   "execution_count": 9,
   "metadata": {},
   "outputs": [
    {
     "name": "stdout",
     "output_type": "stream",
     "text": [
      "[INFO] Scanning for projects...\n",
      "[INFO] \n",
      "[INFO] -----------------< fr.univtln.bruno.demos:MyPowerApp >------------------\n",
      "[INFO] Building MyPowerApp 1.0-SNAPSHOT\n",
      "[INFO] --------------------------------[ jar ]---------------------------------\n",
      "[INFO] \n",
      "[INFO] --- maven-enforcer-plugin:3.0.0-M3:enforce (enforce-versions) @ MyPowerApp ---\n",
      "[INFO] \n",
      "[INFO] --- jacoco-maven-plugin:0.8.6:prepare-agent (before-unit-test-execution) @ MyPowerApp ---\n",
      "[WARNING] The artifact xml-apis:xml-apis:jar:2.0.2 has been relocated to xml-apis:xml-apis:jar:1.0.b2\n",
      "[INFO] surefire.jacoco.args set to -javaagent:/home/jovyan/work/.m2/repository/org/jacoco/org.jacoco.agent/0.8.6/org.jacoco.agent-0.8.6-runtime.jar=destfile=/home/jovyan/work/src/MyPowerApp/target/jacoco-output/jacoco-unit-tests.exec\n",
      "[INFO] \n",
      "[INFO] --- license-maven-plugin:2.0.0:update-file-header (first) @ MyPowerApp ---\n",
      "[INFO] Adding a license repository jar:file:/home/jovyan/work/.m2/repository/org/codehaus/mojo/license-maven-plugin/2.0.0/license-maven-plugin-2.0.0.jar!/META-INF/licenses\n",
      "[INFO] register GNU Free Documentation License (FDL) version 1.3\n",
      "[INFO] register GNU General Lesser Public License (LGPL) version 3.0\n",
      "[INFO] register GNU Affero General Public License (AGPL) version 3.0\n",
      "[INFO] register GNU General Public License (GPL) version 3.0\n",
      "[INFO] register GNU General Public License (GPL) version 2.0\n",
      "[INFO] register GNU General Public License (GPL) version 1.0\n",
      "[INFO] register Apache License version 2.0\n",
      "[INFO] register Eclipse Public License - v 2.0 with Secondary License\n",
      "[INFO] register Eclipse Public License - v 2.0\n",
      "[INFO] register Eclipse Public License - v 1.0\n",
      "[INFO] register Eclipse Public + Distribution License - v 1.0\n",
      "[INFO] register COMMON DEVELOPMENT AND DISTRIBUTION LICENSE (CDDL) Version 1.0\n",
      "[INFO] register GNU General Lesser Public License (LGPL) version 2.1\n",
      "[INFO] register MIT-License\n",
      "[INFO] register BSD 2-Clause License\n",
      "[INFO] register BSD 3-Clause License\n",
      "[INFO] register European Union Public License v1.1\n",
      "[INFO] Will search files to update from root /home/jovyan/work/src/MyPowerApp/src\n",
      "[INFO] Scan 4 files header done in 33.975ms.\n",
      "[INFO] All files are up-to-date.\n",
      "[INFO] \n",
      "[INFO] --- maven-resources-plugin:3.1.0:resources (default-resources) @ MyPowerApp ---\n",
      "[INFO] Using 'UTF-8' encoding to copy filtered resources.\n",
      "[INFO] skip non existing resourceDirectory /home/jovyan/work/src/MyPowerApp/src/main/resources\n",
      "[INFO] \n",
      "[INFO] --- maven-compiler-plugin:3.8.1:compile (default-compile) @ MyPowerApp ---\n",
      "[INFO] Changes detected - recompiling the module!\n",
      "[INFO] Compiling 1 source file to /home/jovyan/work/src/MyPowerApp/target/classes\n",
      "[INFO] \n",
      "[INFO] --- maven-resources-plugin:3.1.0:testResources (default-testResources) @ MyPowerApp ---\n",
      "[INFO] Using 'UTF-8' encoding to copy filtered resources.\n",
      "[INFO] skip non existing resourceDirectory /home/jovyan/work/src/MyPowerApp/src/test/resources\n",
      "[INFO] \n",
      "[INFO] --- maven-compiler-plugin:3.8.1:testCompile (default-testCompile) @ MyPowerApp ---\n",
      "[INFO] Changes detected - recompiling the module!\n",
      "[INFO] Compiling 2 source files to /home/jovyan/work/src/MyPowerApp/target/test-classes\n",
      "[INFO] \n",
      "[INFO] --- maven-surefire-plugin:3.0.0-M4:test (default-test) @ MyPowerApp ---\n",
      "[INFO] \n",
      "[INFO] -------------------------------------------------------\n",
      "[INFO]  T E S T S\n",
      "[INFO] -------------------------------------------------------\n",
      "[INFO] Running fr.univtln.bruno.demos.AppTest\n",
      "[INFO] Tests run: 1, Failures: 0, Errors: 0, Skipped: 0, Time elapsed: 0.098 s - in fr.univtln.bruno.demos.AppTest\n",
      "[INFO] \n",
      "[INFO] Results:\n",
      "[INFO] \n",
      "[INFO] Tests run: 1, Failures: 0, Errors: 0, Skipped: 0\n",
      "[INFO] \n",
      "[INFO] \n",
      "[INFO] --- jacoco-maven-plugin:0.8.6:report (after-unit-test-execution) @ MyPowerApp ---\n",
      "[INFO] Loading execution data file /home/jovyan/work/src/MyPowerApp/target/jacoco-output/jacoco-unit-tests.exec\n",
      "[INFO] Analyzed bundle 'MyPowerApp' with 1 classes\n",
      "[INFO] \n",
      "[INFO] --- maven-jar-plugin:3.2.0:jar (default-jar) @ MyPowerApp ---\n",
      "[INFO] \n",
      "[INFO] --- maven-shade-plugin:3.3.0-SNAPSHOT:shade (default) @ MyPowerApp ---\n",
      "[INFO] Including org.junit.jupiter:junit-jupiter-engine:jar:5.7.2 in the shaded jar.\n",
      "[INFO] Including org.apiguardian:apiguardian-api:jar:1.1.0 in the shaded jar.\n",
      "[INFO] Including org.junit.platform:junit-platform-engine:jar:1.7.2 in the shaded jar.\n",
      "[INFO] Including org.opentest4j:opentest4j:jar:1.2.0 in the shaded jar.\n",
      "[INFO] Including org.junit.platform:junit-platform-commons:jar:1.7.2 in the shaded jar.\n",
      "[INFO] Including org.junit.jupiter:junit-jupiter-api:jar:5.7.2 in the shaded jar.\n",
      "[INFO] Including org.projectlombok:lombok:jar:1.18.20 in the shaded jar.\n",
      "[INFO] Minimizing jar fr.univtln.bruno.demos:MyPowerApp:jar:1.0-SNAPSHOT\n",
      "[WARNING] /home/jovyan/work/src/MyPowerApp/target/classes (Is a directory)\n",
      "[INFO] Dependency-reduced POM written at: /home/jovyan/work/src/MyPowerApp/dependency-reduced-pom.xml\n",
      "[WARNING] Discovered module-info.class. Shading will break its strong encapsulation.\n",
      "[WARNING] Discovered module-info.class. Shading will break its strong encapsulation.\n",
      "[WARNING] Discovered module-info.class. Shading will break its strong encapsulation.\n",
      "[WARNING] Discovered module-info.class. Shading will break its strong encapsulation.\n",
      "[WARNING] Discovered module-info.class. Shading will break its strong encapsulation.\n",
      "[WARNING] Discovered module-info.class. Shading will break its strong encapsulation.\n",
      "[WARNING] Discovered module-info.class. Shading will break its strong encapsulation.\n"
     ]
    },
    {
     "name": "stderr",
     "output_type": "stream",
     "text": [
      "Oct 14, 2021 4:15:01 PM fr.univtln.bruno.demos.App main\n",
      "INFO: Hello World! []\n"
     ]
    },
    {
     "name": "stdout",
     "output_type": "stream",
     "text": [
      "[WARNING] junit-jupiter-api-5.7.2.jar, junit-jupiter-engine-5.7.2.jar, junit-platform-commons-1.7.2.jar, junit-platform-engine-1.7.2.jar define 2 overlapping resources: \n",
      "[WARNING]   - META-INF/LICENSE-notice.md\n",
      "[WARNING]   - META-INF/LICENSE.md\n",
      "[WARNING] MyPowerApp-1.0-SNAPSHOT.jar, apiguardian-api-1.1.0.jar, junit-jupiter-api-5.7.2.jar, junit-jupiter-engine-5.7.2.jar, junit-platform-commons-1.7.2.jar, junit-platform-engine-1.7.2.jar, lombok-1.18.20.jar, opentest4j-1.2.0.jar define 1 overlapping resource: \n",
      "[WARNING]   - META-INF/MANIFEST.MF\n",
      "[WARNING] maven-shade-plugin has detected that some class files are\n",
      "[WARNING] present in two or more JARs. When this happens, only one\n",
      "[WARNING] single version of the class is copied to the uber jar.\n",
      "[WARNING] Usually this is not harmful and you can skip these warnings,\n",
      "[WARNING] otherwise try to manually exclude artifacts based on\n",
      "[WARNING] mvn dependency:tree -Ddetail=true and the above output.\n",
      "[WARNING] See http://maven.apache.org/plugins/maven-shade-plugin/\n",
      "[INFO] Minimized 1439 -> 841 (58%)\n",
      "[INFO] Attaching shaded artifact.\n",
      "[INFO] ------------------------------------------------------------------------\n",
      "[INFO] BUILD SUCCESS\n",
      "[INFO] ------------------------------------------------------------------------\n",
      "[INFO] Total time:  26.142 s\n",
      "[INFO] Finished at: 2021-10-14T16:15:01Z\n",
      "[INFO] ------------------------------------------------------------------------\n"
     ]
    },
    {
     "name": "stderr",
     "output_type": "stream",
     "text": [
      "Oct 14, 2021 4:15:01 PM fr.univtln.bruno.demos.App main\n",
      "INFO: Hello World! []\n"
     ]
    }
   ],
   "source": [
    "%%shell\n",
    "cd /home/jovyan/work/src/MyPowerApp\n",
    "mvn -ntp package \n",
    "java -jar target/MyPowerApp-1.0-SNAPSHOT-withdependencies.jar"
   ]
  },
  {
   "cell_type": "code",
   "execution_count": null,
   "metadata": {},
   "outputs": [],
   "source": []
  },
  {
   "cell_type": "code",
   "execution_count": null,
   "metadata": {},
   "outputs": [],
   "source": []
  }
 ],
 "metadata": {
  "kernelspec": {
   "display_name": "Java [conda env:root] *",
   "language": "java",
   "name": "conda-root-java"
  },
  "language_info": {
   "codemirror_mode": "java",
   "file_extension": ".jshell",
   "mimetype": "text/x-java-source",
   "name": "Java",
   "pygments_lexer": "java",
   "version": "17+35"
  }
 },
 "nbformat": 4,
 "nbformat_minor": 4
}
