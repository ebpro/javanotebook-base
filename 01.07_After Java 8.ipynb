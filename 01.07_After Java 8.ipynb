{
 "cells": [
  {
   "cell_type": "markdown",
   "id": "41ce0032-bf3c-4373-a804-e80139d42257",
   "metadata": {},
   "source": [
    "# Après Java 8\n",
    "Ce notebook présente brièvement les nouveautés importantes de Java à partir de Java 8.\n",
    "La suite sera illustrée sur un exemple simple composé d'une liste de personnes. "
   ]
  },
  {
   "cell_type": "code",
   "execution_count": 1,
   "id": "c077cd55-6b00-49f7-891a-ab766c8010fc",
   "metadata": {},
   "outputs": [
    {
     "name": "stderr",
     "output_type": "stream",
     "text": [
      "[2022-10-27 16:38:18,242] INFO -- Repo /home/jovyan/work/src/samples/sample-person doesn't exist. Cloning...\n",
      "[2022-10-27 16:38:18,979] INFO -- Repo /home/jovyan/work/src/samples/sample-person initialized\n"
     ]
    },
    {
     "name": "stdout",
     "output_type": "stream",
     "text": [
      "$ git clone --depth 1 --branch develop -- https://github.com/ebpro/sample-person.git /home/jovyan/work/src/samples/sample-person\n",
      "\n",
      "Cloning into '/home/jovyan/work/src/samples/sample-person'...\n",
      "\n"
     ]
    }
   ],
   "source": [
    "%%shell\n",
    "gitpuller https://github.com/ebpro/sample-person.git develop /home/jovyan/work/src/samples/sample-person\n",
    "cd \"/home/jovyan/work/src/samples/sample-person\"\n",
    "mvn -quiet -ntp clean package"
   ]
  },
  {
   "cell_type": "code",
   "execution_count": 2,
   "id": "72c2b7b3-9c20-4996-a039-6e30e8681aa1",
   "metadata": {},
   "outputs": [
    {
     "data": {
      "text/plain": [
       "[/home/jovyan/work/src/samples/sample-person/target/SamplePerson-1.0-SNAPSHOT.jar]"
      ]
     },
     "execution_count": 2,
     "metadata": {},
     "output_type": "execute_result"
    }
   ],
   "source": [
    "List<String> addedJars = %jars \"/home/jovyan/work/src/samples/sample-person/target/SamplePerson-*.jar\";  \n",
    "addedJars;"
   ]
  },
  {
   "cell_type": "code",
   "execution_count": 3,
   "id": "08eaa893-ec6e-41f0-8eb5-ee7748f8ded9",
   "metadata": {},
   "outputs": [
    {
     "data": {
      "text/plain": [
       "[Person(email=pierre.durand@a.fr, firstName=Pierre, lastName=Durand, age=20), Person(email=marie.durand@b.fr, firstName=Marie, lastName=Durand, age=14), Person(email=albert.martin@c.fr, firstName=Albert, lastName=Martin, age=30)]"
      ]
     },
     "execution_count": 3,
     "metadata": {},
     "output_type": "execute_result"
    }
   ],
   "source": [
    "import fr.univtln.bruno.samples.persons.Person;\n",
    "List<Person> personnes = Arrays.asList(\n",
    "                        Person.getInstance(\"pierre.durand@a.fr\",\"Pierre\", \"Durand\", 20), \n",
    "                        Person.getInstance(\"marie.durand@b.fr\",\"Marie\", \"Durand\", 14),\n",
    "                        Person.getInstance(\"albert.martin@c.fr\",\"Albert\", \"Martin\", 30));\n",
    "personnes;"
   ]
  },
  {
   "cell_type": "markdown",
   "id": "d4f2c3c1-edfe-4be3-b97a-fd3f1c51006a",
   "metadata": {},
   "source": [
    "Avec une liste d’instances de la classe Personne(email, prénom, nom, age) et si la classe `Person` redéfini `equals` et `hashcode` et implante l'interface `Comparable` en fonction de l'email on peut trier canoniquement la liste par email."
   ]
  },
  {
   "cell_type": "code",
   "execution_count": 4,
   "id": "8054b9cd-4ac6-4c5e-a28c-9fd00adc73f4",
   "metadata": {},
   "outputs": [
    {
     "data": {
      "text/plain": [
       "[Person(email=albert.martin@c.fr, firstName=Albert, lastName=Martin, age=30), Person(email=marie.durand@b.fr, firstName=Marie, lastName=Durand, age=14), Person(email=pierre.durand@a.fr, firstName=Pierre, lastName=Durand, age=20)]"
      ]
     },
     "execution_count": 4,
     "metadata": {},
     "output_type": "execute_result"
    }
   ],
   "source": [
    "Collections.sort(personnes);\n",
    "personnes;"
   ]
  },
  {
   "cell_type": "markdown",
   "id": "9cb93be3-0529-4450-b397-b86d4b57260c",
   "metadata": {},
   "source": [
    "Pour trier par un autre critère par exemple l'âge, on peut implanter l'interface Comparator et en fournir une instance. "
   ]
  },
  {
   "cell_type": "code",
   "execution_count": 5,
   "id": "ad3b62d3-fc44-48d0-b04f-a37a8f279f5f",
   "metadata": {},
   "outputs": [
    {
     "data": {
      "text/plain": [
       "[Person(email=marie.durand@b.fr, firstName=Marie, lastName=Durand, age=14), Person(email=pierre.durand@a.fr, firstName=Pierre, lastName=Durand, age=20), Person(email=albert.martin@c.fr, firstName=Albert, lastName=Martin, age=30)]"
      ]
     },
     "execution_count": 5,
     "metadata": {},
     "output_type": "execute_result"
    }
   ],
   "source": [
    "public class PersonComparatorByAge implements Comparator<Person> {\n",
    "    public int compare(Person person1, Person person2) {\n",
    "        return person1.getAge()-person2.getAge();\n",
    "    }\n",
    "}\n",
    "\n",
    "Collections.sort(personnes, new PersonComparatorByAge());\n",
    "personnes;"
   ]
  },
  {
   "cell_type": "markdown",
   "id": "8b9024d2-74ee-414d-a33c-437242c4d9da",
   "metadata": {},
   "source": [
    "Si le comparateur ne doit être utilisé qu'une fois on peut utiliser une classe anonyme."
   ]
  },
  {
   "cell_type": "code",
   "execution_count": 6,
   "id": "979130d8-31c1-437d-a96b-2db896e1b3af",
   "metadata": {},
   "outputs": [
    {
     "data": {
      "text/plain": [
       "[Person(email=albert.martin@c.fr, firstName=Albert, lastName=Martin, age=30), Person(email=marie.durand@b.fr, firstName=Marie, lastName=Durand, age=14), Person(email=pierre.durand@a.fr, firstName=Pierre, lastName=Durand, age=20)]"
      ]
     },
     "execution_count": 6,
     "metadata": {},
     "output_type": "execute_result"
    }
   ],
   "source": [
    "//Tri par prénom, puis nom\n",
    "Collections.sort(personnes, new Comparator<Person>() {\n",
    "    @Override\n",
    "    public int compare(Person o1, Person o2) {\n",
    "        return (o1.getFirstName().equals(o2.getFirstName())?o1.getLastName().compareTo(o2.getLastName()):o1.getFirstName().compareTo(o2.getFirstName()));\n",
    "    }\n",
    "});\n",
    "personnes;"
   ]
  },
  {
   "cell_type": "markdown",
   "id": "534aa163-2a49-4892-a280-2e81fbb0a197",
   "metadata": {},
   "source": [
    "## Java 8\n",
    "\n",
    "### Les lambdas expressions\n",
    "Plus généralement, l'utilisation d'une interface à une seule méthode est un pattern classique en Java, c'est le cas par exemple lorsque l'on veut trier par un autre critère que le tri canonique (\"par défaut\") définit via l'interface Comparable\\<T\\> ou pour donner le code de réavction dans une IHM.\n",
    "\n",
    "Les lambda expressions (en Java) sont un moyen de manipuler des instances d'interfaces à une seule méthode. "
   ]
  },
  {
   "cell_type": "markdown",
   "id": "27d854cd-b13a-4f88-a640-d02a900afc1d",
   "metadata": {},
   "source": [
    "A partir de Java 8 on peut utiliser des lambda expressions. Elles peuvent être vues comme des instances de classes anonymes n'ayant qu'une seule méthode dont les types de retour et des paramètres sont inférés.\n",
    "\n",
    "Une lambda expression est composée :\n",
    "  * d'un ou ou de plusieurs noms de paramètres (alors entre parenthèses) éventuellement typés\n",
    "  * du symbole →\n",
    "  * d'un corps de fonction, s’il est réduit à une expression le return et les accolades sont facultatifs.\n",
    "\n",
    "Dans notre example, le tri de la liste par nom s'écrit alors :"
   ]
  },
  {
   "cell_type": "code",
   "execution_count": 7,
   "id": "cc0cbfb1-881e-4a75-a9a6-34e707697050",
   "metadata": {},
   "outputs": [
    {
     "data": {
      "text/plain": [
       "[Person(email=marie.durand@b.fr, firstName=Marie, lastName=Durand, age=14), Person(email=pierre.durand@a.fr, firstName=Pierre, lastName=Durand, age=20), Person(email=albert.martin@c.fr, firstName=Albert, lastName=Martin, age=30)]"
      ]
     },
     "execution_count": 7,
     "metadata": {},
     "output_type": "execute_result"
    }
   ],
   "source": [
    "Collections.sort(personnes, (o1, o2) -> o1.getLastName().compareTo(o2.getLastName()));\n",
    "personnes;"
   ]
  },
  {
   "cell_type": "markdown",
   "id": "d6295527-133b-437f-81f5-5f73b88d9f9d",
   "metadata": {},
   "source": [
    "## Les interfaces fonctionnelles\n",
    "\n",
    "Java 8 définit le concept d’interfaces fonctionnelles (elles ont extactement une méthode). Elles permettent de manipuler des références vers des lambda expressions ou des méthodes. Une interface peut être définie comme fonctionnelle avec l’annotation @FunctionalInterface. Un ensemble d’interfaces fonctionnelles classiques est proposé dans le JDK :\n",
    "\n",
    "  * `Function<T,R>` - takes an object of type T and returns R.\n",
    "  * `Supplier<T>` - just returns an object of type T.\n",
    "  * `Predicate<T>` - returns a boolean value based on input of type T.\n",
    "  * `Consumer<T>` - performs an action with given object of type T.\n",
    "  * `BiFunction<T,U>` - like Function but with two parameters.\n",
    "  * `BiConsumer<T,U>` - like Consumer but with two parameters.\n",
    "  * ... https://docs.oracle.com/en/java/javase/17/docs/api/java.base/java/util/function/package-summary.html\n",
    "  \n",
    "Nous allons voir des exemples avec quatre interfaces courament utilsées : `Function`, `Predicate`, `Supplier` et `Consumer`.\n",
    "\n",
    "L'interface [Function](https://docs.oracle.com/en/java/javase/17/docs/api/java.base/java/util/function/Function.html) applique un traitement sur son unique paramètre. \n",
    "\n",
    "Il est par exemple possible de définir une variable `at` qui contient une référence vers une \"fonction\" avec un seul paramètre ici de type String qui ajoute un `@` en préfixe à une chaîne de caractères (donc avec comme type de retour String). Le nom de l'unique méthode d'une `Function` est `apply`."
   ]
  },
  {
   "cell_type": "code",
   "execution_count": 8,
   "id": "e25f4c96-2ea6-4707-a9a7-9f5391f93aad",
   "metadata": {},
   "outputs": [],
   "source": [
    "import java.util.function.Function;\n",
    "Function<String, String> at = name -> \"@\" + name;"
   ]
  },
  {
   "cell_type": "markdown",
   "id": "60f3344f-799b-4324-9027-17876c01e7de",
   "metadata": {},
   "source": [
    "On peut alors définir des méthodes qui prennent en paramètre une instance d'une interface fonctionnelle. \n",
    "\n",
    "Ici une méthode qui parcourt la liste de personnes, applique la Function sur le prénom et l'affiche."
   ]
  },
  {
   "cell_type": "code",
   "execution_count": 9,
   "id": "d024b0ab-d687-4a4b-b1aa-077204e2fdd4",
   "metadata": {},
   "outputs": [
    {
     "name": "stdout",
     "output_type": "stream",
     "text": [
      "@Marie\n",
      "@Pierre\n",
      "@Albert\n"
     ]
    }
   ],
   "source": [
    "public class AfficheurDePersonnes {\n",
    "    public static void appliqueEtAfficher(Function<String,String> fonction) {\n",
    "        for (Person p : personnes) System.out.println(fonction.apply(p.getFirstName()));\n",
    "    }\n",
    "}    \n",
    "\n",
    "AfficheurDePersonnes.appliqueEtAfficher(at);"
   ]
  },
  {
   "cell_type": "markdown",
   "id": "002c610a-a8e6-4fe3-9130-f73bed868599",
   "metadata": {},
   "source": [
    "On peut aussi directement utiliser une lambda de types compatibles (noter que les types de retour et du paramètre `s` sont inférés à partir des paramètres de l'interface fonctionnelle attendue). "
   ]
  },
  {
   "cell_type": "code",
   "execution_count": 10,
   "id": "3f09b36e-89c8-4858-83ec-75dcc4626af4",
   "metadata": {},
   "outputs": [
    {
     "name": "stdout",
     "output_type": "stream",
     "text": [
      "MARIE\n",
      "PIERRE\n",
      "ALBERT\n"
     ]
    }
   ],
   "source": [
    "AfficheurDePersonnes.appliqueEtAfficher(s->s.toUpperCase());"
   ]
  },
  {
   "cell_type": "markdown",
   "id": "d28e7ceb-94a2-43af-a90f-dd0d78d03f26",
   "metadata": {},
   "source": [
    "Les [Supplier](https://docs.oracle.com/en/java/javase/17/docs/api/java.base/java/util/function/Supplier.html) sont des fonctions sans paramètre qui produise une valeur et possède donc un seul paramètre celui de l'objet retourné. C'est une sorte de factory. Ainsi `Supplier<String>` fournis des chaines de caratères, `Supplier<Integer>` des objets représentant des entiers, ... . Pour les primitifs, il existe des variantes dédiées de l'interface (donc sans paramètres) comme [IntSupplier](https://docs.oracle.com/en/java/javase/17/docs/api/java.base/java/util/function/IntSupplier.html).\n",
    "\n",
    "On peut ainsi par exemple, définir deux fonctions qui affichent 10 entiers à partir de suppliers (Object ou primitif)."
   ]
  },
  {
   "cell_type": "code",
   "execution_count": 11,
   "id": "875a473c-01cf-4336-836c-d2f734873971",
   "metadata": {},
   "outputs": [],
   "source": [
    "import java.util.function.Supplier;\n",
    "import java.util.function.IntSupplier;\n",
    "import java.util.Random;\n",
    "\n",
    "public class AfficheurDeNombre {\n",
    "    private static int nb = 10;\n",
    "    public static void afficher(Supplier<Double> supplier) {\n",
    "        for (int i=0;i<nb;i++) System.out.print(\"[\"+supplier.get()+\"]\"+(i<nb-1?\" \":\"\\n\"));        \n",
    "    }\n",
    "    public static void afficher(IntSupplier supplier) {\n",
    "        for (int i=0;i<nb;i++) System.out.print(\"(\"+supplier.getAsInt()+\")\"+(i<nb-1?\",\":\"\\n\"));\n",
    "    }\n",
    "} "
   ]
  },
  {
   "cell_type": "markdown",
   "id": "aa1f30e2-d604-42da-ba38-6f5cb6360a47",
   "metadata": {},
   "source": [
    "et les utiliser avec des lamdas conforme à l'interface Supplier."
   ]
  },
  {
   "cell_type": "code",
   "execution_count": 12,
   "id": "f063d466-a95b-40b0-82f2-26c59e9a4696",
   "metadata": {},
   "outputs": [
    {
     "name": "stdout",
     "output_type": "stream",
     "text": [
      "[1.5668726986095152] [6.608568729556655] [5.52967612239488] [3.9849903718134203] [1.4453343329004835] [2.240759521499399] [5.757127545928561] [1.8146327952736356] [4.232440148650268] [1.3910058334113669]\n",
      "(32),(6),(98),(80),(14),(20),(20),(76),(16),(74)\n"
     ]
    }
   ],
   "source": [
    "Random random = new Random();\n",
    "AfficheurDeNombre.afficher(()->random.nextDouble(6)+1);\n",
    "AfficheurDeNombre.afficher(()->Integer.valueOf(random.nextInt(50)+1)*2);"
   ]
  },
  {
   "cell_type": "markdown",
   "id": "4ecf9cde-cd20-487a-a4f8-32768aca548d",
   "metadata": {},
   "source": [
    "L'opérateur `::` permet de récupérer une référence vers un constructeur, une méthode statique ou d'instance existante que l'on pourra manipuler à travers une interface fonctionnelle.\n",
    "\n",
    "On peut ainsi définir une méthode qui ajoute des Personnes à une liste qui est créée à partir d'un Supplier qui fournit une liste de Personne en paramètre."
   ]
  },
  {
   "cell_type": "code",
   "execution_count": 13,
   "id": "b1cb7733-bf6f-4010-beac-56024ec051cf",
   "metadata": {},
   "outputs": [],
   "source": [
    "public void testSupplier(Supplier<List<Person>> plFactory) {\n",
    "  List <Person> pl = plFactory.get();\n",
    "  pl.add(Person.getInstance(\"pierre.durand@a.fr\",\"Pierre\", \"Durand\", 20)); \n",
    "  pl.add(Person.getInstance(\"marie.durand@b.fr\",\"Marie\", \"Durand\", 14));\n",
    "  System.out.println(pl.getClass()+ \"->\" +pl);\n",
    "}"
   ]
  },
  {
   "cell_type": "markdown",
   "id": "71e39986-87e7-404d-b9a9-8690c621c3e9",
   "metadata": {},
   "source": [
    "Il est possible de passer uen référence de type Supplier :"
   ]
  },
  {
   "cell_type": "code",
   "execution_count": 14,
   "id": "8af19415-69b1-4cd4-8374-7b2ba5b7801f",
   "metadata": {},
   "outputs": [
    {
     "name": "stdout",
     "output_type": "stream",
     "text": [
      "class java.util.ArrayList->[Person(email=pierre.durand@a.fr, firstName=Pierre, lastName=Durand, age=20), Person(email=marie.durand@b.fr, firstName=Marie, lastName=Durand, age=14)]\n"
     ]
    }
   ],
   "source": [
    "Supplier<List<Person>> personListFactory = ArrayList::new;\n",
    "testSupplier(personListFactory);"
   ]
  },
  {
   "cell_type": "markdown",
   "id": "3d3cb169-786b-4c7f-85b0-ba6196f64aaf",
   "metadata": {},
   "source": [
    "oui directement la référence :"
   ]
  },
  {
   "cell_type": "code",
   "execution_count": 15,
   "id": "d09a2ffd-bc13-4684-ba74-4a17b388cc47",
   "metadata": {},
   "outputs": [
    {
     "name": "stdout",
     "output_type": "stream",
     "text": [
      "class java.util.LinkedList->[Person(email=pierre.durand@a.fr, firstName=Pierre, lastName=Durand, age=20), Person(email=marie.durand@b.fr, firstName=Marie, lastName=Durand, age=14)]\n"
     ]
    }
   ],
   "source": [
    "testSupplier(LinkedList::new);"
   ]
  },
  {
   "cell_type": "markdown",
   "id": "74ee063d-e003-4a5f-a096-9e0d802c4a8f",
   "metadata": {},
   "source": [
    "L'interface `Consumer` a un paramètre, le type d'objet consommé et aucun type de retour.\n",
    "\n",
    "L'interface `Predicate` a un paramètre, le type d'objet sur lequel s'applique le prédicat et renvoie un booléen."
   ]
  },
  {
   "cell_type": "markdown",
   "id": "c15e40d8-f548-470e-9882-69b6bcaf7001",
   "metadata": {},
   "source": [
    "### Applications à la liste de personnes\n",
    "Si l'on chercher à afficher une sous liste de personnes qui vérifient un prédicat, il est possible de faire en créant une classe générique qui applique un prédicat sur un objet que l'on peut parcourir ([Iterable](https://docs.oracle.com/en/java/javase/17/docs/api/java.base/java/lang/Iterable.html) :"
   ]
  },
  {
   "cell_type": "code",
   "execution_count": 16,
   "id": "84d70563-f91b-464a-bdb1-ee8d8cab134a",
   "metadata": {},
   "outputs": [],
   "source": [
    "import java.util.function.Predicate;\n",
    "public class Processor<T> {\n",
    "    public List<T> find(Iterable<T> iterable, Predicate<T> predicate,  Consumer<T> consumer) {\n",
    "        List<T> list = new ArrayList<>();\n",
    "        for (T t : iterable)\n",
    "            if (predicate.test(t))\n",
    "                list.add(t);\n",
    "        return list;\n",
    "    }\n",
    "}"
   ]
  },
  {
   "cell_type": "markdown",
   "id": "2e7c70a5-257c-4331-b870-039232a877e5",
   "metadata": {},
   "source": [
    "et utiliser une lambda expression pour le prédicat et une référence vers une fonction pour afficher le résultat"
   ]
  },
  {
   "cell_type": "code",
   "execution_count": 17,
   "id": "a809ddad-f7e4-4851-9762-7e6420784617",
   "metadata": {},
   "outputs": [
    {
     "data": {
      "text/plain": [
       "[Person(email=marie.durand@b.fr, firstName=Marie, lastName=Durand, age=14)]"
      ]
     },
     "execution_count": 17,
     "metadata": {},
     "output_type": "execute_result"
    }
   ],
   "source": [
    "new Processor<Person>().find(personnes,\n",
    "                         p -> p.getLastName().equals(\"Durand\")\n",
    "                            && p.getAge() >= 10\n",
    "                            && p.getAge() <= 15,                    \n",
    "                         System.out::println);"
   ]
  },
  {
   "cell_type": "markdown",
   "id": "966a531b-96b4-443b-b6ce-da3d76329348",
   "metadata": {},
   "source": [
    "Le même Processor peut-être utilisé pour afficher uniquement des entiers pairs (Attention ici vu comme des Objets et non des primitifs)."
   ]
  },
  {
   "cell_type": "code",
   "execution_count": 18,
   "id": "e50e002d-9592-4ec1-b555-5ff49f5cd2d6",
   "metadata": {},
   "outputs": [
    {
     "data": {
      "text/plain": [
       "[2, 6, 8]"
      ]
     },
     "execution_count": 18,
     "metadata": {},
     "output_type": "execute_result"
    }
   ],
   "source": [
    "new Processor<Integer>().find(Arrays.asList(2,6,7,8,5),n->n % 2==0,System.out::println);"
   ]
  },
  {
   "cell_type": "markdown",
   "id": "c8ebb2f3-8661-42aa-b386-ee31fe5ce683",
   "metadata": {},
   "source": [
    "## Les Streams\n",
    "\n",
    "Il est aussi très courant de devoir traiter des séquences d'objets ou de primitifs. Pour cela, Java 8 introduit la notion de [Stream](https://docs.oracle.com/en/java/javase/17/docs/api/java.base/java/util/stream/package-summary.html). Un stream ne stocke pas la séquence mais permet de la traiter à travers un pipeline (éventuellement parallèle). La construction et le traitement des stream peut être “lazzy”. Les Stream sont conçu pour être utilisés avec une approche fonctionnelle.\n",
    "\n",
    "Un stream peut par exemple être créé au dessus d’une collection (avec la méthode `.stream()`), à partir d'un tableau (`Arrays.stream(Object[])`), d'un fichier (` BufferedReader.lines()`), de diverses factories (\n",
    "[Stream.of(T...)](https://docs.oracle.com/en/java/javase/17/docs/api/java.base/java/util/stream/Stream.html#of(T...)),\n",
    "[IntStream.range(int, int)](https://docs.oracle.com/en/java/javase/17/docs/api/java.base/java/util/stream/IntStream.html#range(int,int)), \n",
    "et de nombreuses autres méthodes."
   ]
  },
  {
   "cell_type": "markdown",
   "id": "34ffda6e-2d6e-4635-b2c8-df6542b075b3",
   "metadata": {},
   "source": [
    "Un Consummer peut être appliquer à chaque élément d'un stream [foreach](https://docs.oracle.com/en/java/javase/17/docs/api/java.base/java/util/stream/Stream.html#forEach(java.util.function.Consumer)."
   ]
  },
  {
   "cell_type": "markdown",
   "id": "ae8d4e26-0c6a-47eb-944e-609b988a493e",
   "metadata": {},
   "source": [
    "Afficher une séquence d'entiers."
   ]
  },
  {
   "cell_type": "code",
   "execution_count": 19,
   "id": "febdf3f1-243e-4ec7-be5b-8e124de84919",
   "metadata": {},
   "outputs": [
    {
     "name": "stdout",
     "output_type": "stream",
     "text": [
      "10\n",
      "11\n",
      "12\n",
      "13\n",
      "14\n"
     ]
    }
   ],
   "source": [
    "import java.util.stream.IntStream;\n",
    "IntStream.range(10,15).forEach(System.out::println);"
   ]
  },
  {
   "cell_type": "markdown",
   "id": "0fa8dd48-98ce-4a15-8027-8725dce06981",
   "metadata": {},
   "source": [
    "ou une liste de personnes"
   ]
  },
  {
   "cell_type": "code",
   "execution_count": 20,
   "id": "53e4258c-649d-4d69-8ec5-795455b66a7c",
   "metadata": {},
   "outputs": [
    {
     "name": "stdout",
     "output_type": "stream",
     "text": [
      "Person(email=marie.durand@b.fr, firstName=Marie, lastName=Durand, age=14)\n",
      "Person(email=pierre.durand@a.fr, firstName=Pierre, lastName=Durand, age=20)\n",
      "Person(email=albert.martin@c.fr, firstName=Albert, lastName=Martin, age=30)\n"
     ]
    }
   ],
   "source": [
    "personnes.stream().forEach(System.out::println);"
   ]
  },
  {
   "cell_type": "markdown",
   "id": "8f6491d8-4f54-4ee2-b818-d8851f7f678c",
   "metadata": {},
   "source": [
    "ou les lignes d'un fichier"
   ]
  },
  {
   "cell_type": "code",
   "execution_count": 21,
   "id": "2dd573d2-ec77-4380-b8bb-44085f8c5581",
   "metadata": {},
   "outputs": [
    {
     "name": "stdout",
     "output_type": "stream",
     "text": [
      "\n",
      "The programs included with the Ubuntu system are free software;\n",
      "the exact distribution terms for each program are described in the\n",
      "individual files in /usr/share/doc/*/copyright.\n",
      "\n",
      "Ubuntu comes with ABSOLUTELY NO WARRANTY, to the extent permitted by\n",
      "applicable law.\n",
      "\n"
     ]
    }
   ],
   "source": [
    "import java.util.stream.Stream;\n",
    "try (Stream stream = Files.lines(Paths.get(\"/etc/legal\"))) {\n",
    "            stream.forEach(System.out::println);\n",
    "}"
   ]
  },
  {
   "cell_type": "markdown",
   "id": "a6644686-fbfe-4d55-b269-e154b992ad7f",
   "metadata": {},
   "source": [
    "ou les flux d'entrée/sortie (I/O stream)"
   ]
  },
  {
   "cell_type": "code",
   "execution_count": 22,
   "id": "0b80e9e0-0689-4860-9d29-a70dfc53bb3c",
   "metadata": {},
   "outputs": [
    {
     "name": "stdout",
     "output_type": "stream",
     "text": [
      "\n",
      "The programs included with the Ubuntu system are free software;\n",
      "the exact distribution terms for each program are described in the\n",
      "individual files in /usr/share/doc/*/copyright.\n",
      "\n",
      "Ubuntu comes with ABSOLUTELY NO WARRANTY, to the extent permitted by\n",
      "applicable law.\n",
      "\n"
     ]
    }
   ],
   "source": [
    "try (FileReader fileReader = new FileReader(\"/etc/legal\");\n",
    "  BufferedReader br = new BufferedReader(fileReader)) {\n",
    "  br.lines().forEach(System.out::println);\n",
    "}"
   ]
  },
  {
   "cell_type": "markdown",
   "id": "cd17c031-ee8c-42b6-a131-da62aa018e68",
   "metadata": {},
   "source": [
    "Un stream peut aussi être filtré en appliquant un Predicate :"
   ]
  },
  {
   "cell_type": "code",
   "execution_count": 23,
   "id": "c811943f-e69a-4775-a037-55351dc51758",
   "metadata": {},
   "outputs": [
    {
     "name": "stdout",
     "output_type": "stream",
     "text": [
      "Person(email=pierre.durand@a.fr, firstName=Pierre, lastName=Durand, age=20)\n",
      "Person(email=albert.martin@c.fr, firstName=Albert, lastName=Martin, age=30)\n"
     ]
    }
   ],
   "source": [
    "personnes.stream().filter(p -> p.getAge() > 18).forEach(System.out::println);"
   ]
  },
  {
   "cell_type": "markdown",
   "id": "24833761-7691-4728-8fa4-cecb847500d4",
   "metadata": {},
   "source": [
    "Il est aussi possible d'appliquer une Function à chaque élément du flux avec `map()`.\n",
    "\n",
    "Par exemple pour transformer un `Stream<Person>` en `Stream<String>` pour afficher les noms formattés des personnes de plus de 18 ans."
   ]
  },
  {
   "cell_type": "code",
   "execution_count": 24,
   "id": "cb6606b9-65c6-4e7d-a719-d6bd05e15fdf",
   "metadata": {},
   "outputs": [
    {
     "name": "stdout",
     "output_type": "stream",
     "text": [
      "DURAND pierre\n",
      "MARTIN albert\n"
     ]
    }
   ],
   "source": [
    "personnes.stream()\n",
    "    .filter(p -> p.getAge() > 18)\n",
    "    .map(p-> String.format(\"%s %s\",p.getLastName().toUpperCase(), p.getFirstName().toLowerCase()) )\n",
    "    .forEach(System.out::println);"
   ]
  },
  {
   "cell_type": "markdown",
   "id": "dc515262-16e3-451e-9fb5-550918f44228",
   "metadata": {},
   "source": [
    "Il est aussi possible de passer d'un flux d'objet à un flux de primitif et d'utiliser des références vers une méthode.\n",
    "De plus, un ensemble d'opération dites d'aggrégations (disposant d'un systeme d'itération interne) par exemple : average, sum, min, max, count"
   ]
  },
  {
   "cell_type": "code",
   "execution_count": 25,
   "id": "cbb9d787-2946-463d-bed1-6a70e5eed890",
   "metadata": {},
   "outputs": [
    {
     "data": {
      "text/plain": [
       "21.333333333333332"
      ]
     },
     "execution_count": 25,
     "metadata": {},
     "output_type": "execute_result"
    }
   ],
   "source": [
    "double ageMoyen = personnes.stream()\n",
    "    .mapToInt(Person::getAge)\n",
    "    .average()\n",
    "    .getAsDouble();\n",
    "ageMoyen;"
   ]
  },
  {
   "cell_type": "markdown",
   "id": "d630f7df-aca5-4d16-a059-d0e6d566c2f0",
   "metadata": {},
   "source": [
    "### Exception\n",
    "Si une exception doit être testée dans une interface fonctionnelle cela alourdit fortement le code."
   ]
  },
  {
   "cell_type": "code",
   "execution_count": 26,
   "id": "a5478818-d3f2-4a29-b6f2-8ce8a3491939",
   "metadata": {},
   "outputs": [
    {
     "data": {
      "text/plain": [
       "90"
      ]
     },
     "execution_count": 26,
     "metadata": {},
     "output_type": "execute_result"
    }
   ],
   "source": [
    "//Production de 10 entiers à raison d'un par 1/10s et calcul de la somme.\n",
    "IntStream.range(0, 10)\n",
    "        .map(i -> {try {\n",
    "                        Thread.sleep(100);\n",
    "                        } \n",
    "                   catch (java.lang.InterruptedException e) {}; \n",
    "                   return i*2;})\n",
    "        .sum();"
   ]
  },
  {
   "cell_type": "markdown",
   "id": "1207b237-eef3-4840-879f-150b9ff03a0d",
   "metadata": {},
   "source": [
    "Une solution élégante est d'écrire une classe wrapper qui gère l'exception par exemple en l'encapsulant dans une runtime exception cf. https://www.baeldung.com/java-lambda-exceptions."
   ]
  },
  {
   "cell_type": "markdown",
   "id": "e5067156-3cfe-4487-a43b-5b45a7eda5ca",
   "metadata": {},
   "source": [
    "### Aggregation \n",
    "Il est existe aussi deux solutions très générales pour aggréger un Stream avec les mé [reduce() et collect()](https://docs.oracle.com/javase/tutorial/collections/streams/reduction.html) mais elles peuvent être complexes en première approche.\n",
    "\n",
    "Dans la majorité des cas, les méthodes utilitaires proposées dans la classe [Collectors](https://docs.oracle.com/javase/8/docs/api/java/util/stream/Collectors.html) remplissent les besoins courants :"
   ]
  },
  {
   "cell_type": "markdown",
   "id": "90b9d8a5-d864-4f59-b2aa-7ea90e3bff2a",
   "metadata": {},
   "source": [
    "#### Production d'une collection à partir d'un Stream :"
   ]
  },
  {
   "cell_type": "code",
   "execution_count": 27,
   "id": "8f1f2e66-7992-4b36-9357-be5b8b1a270a",
   "metadata": {},
   "outputs": [
    {
     "data": {
      "text/plain": [
       "[DURAND pierre, MARTIN albert]"
      ]
     },
     "execution_count": 27,
     "metadata": {},
     "output_type": "execute_result"
    }
   ],
   "source": [
    "import java.util.stream.Collectors;\n",
    "\n",
    "List<String> AdultNames = personnes.stream()\n",
    "    .filter(p -> p.getAge() > 18)\n",
    "    .map(p-> String.format(\"%s %s\",p.getLastName().toUpperCase(), p.getFirstName().toLowerCase()) )\n",
    "    .collect(Collectors.toList());\n",
    "\n",
    "AdultNames;"
   ]
  },
  {
   "cell_type": "markdown",
   "id": "cfe45cea-5fcf-4a57-9eac-ebcc0d4e3a61",
   "metadata": {},
   "source": [
    "#### Opérations de groupement : "
   ]
  },
  {
   "cell_type": "code",
   "execution_count": 28,
   "id": "3cc9a006-1f99-462b-8d0e-7c83a0ff2d3d",
   "metadata": {},
   "outputs": [
    {
     "data": {
      "text/plain": [
       "{Durand=[Marie, Pierre], Martin=[Albert]}"
      ]
     },
     "execution_count": 28,
     "metadata": {},
     "output_type": "execute_result"
    }
   ],
   "source": [
    "//Regrouper les prénoms par nom dans une Map.\n",
    "Map<String, List<String>> PersonfirstnamesGroupedByNames = personnes.stream()\n",
    "        .collect(\n",
    "            Collectors.groupingBy(\n",
    "                Person::getLastName,                      \n",
    "                Collectors.mapping(\n",
    "                    Person::getFirstName,\n",
    "                    Collectors.toList())));\n",
    "PersonfirstnamesGroupedByNames;"
   ]
  },
  {
   "cell_type": "markdown",
   "id": "36d70f08-2fef-4487-98f3-60f4390cf5a8",
   "metadata": {},
   "source": [
    "#### Concaténation en String :"
   ]
  },
  {
   "cell_type": "code",
   "execution_count": 29,
   "id": "f1b47764-9780-4ebf-89c7-502396213dc1",
   "metadata": {},
   "outputs": [
    {
     "data": {
      "text/plain": [
       "-->DURAND pierre,MARTIN albert<--"
      ]
     },
     "execution_count": 29,
     "metadata": {},
     "output_type": "execute_result"
    }
   ],
   "source": [
    "personnes.stream()\n",
    "    .filter(p -> p.getAge() > 18)\n",
    "    .map(p-> String.format(\"%s %s\",p.getLastName().toUpperCase(), p.getFirstName().toLowerCase()) )\n",
    "    .collect(Collectors.joining(\",\",\"-->\",\"<--\"));"
   ]
  },
  {
   "cell_type": "markdown",
   "id": "3fde3896-b998-4604-af64-52b150fc47cc",
   "metadata": {},
   "source": [
    "Il est aussi possible de traiter les stream en parallèle mais il faut alors prendre en compte le cout de gestion des Thread.\n",
    "\n",
    "Dans les exemples ci-dessous une pause artificielle est ajoutée pour favoriser le parallelisme.\n",
    "cf. https://www.baeldung.com/java-when-to-use-parallel-stream "
   ]
  },
  {
   "cell_type": "code",
   "execution_count": 30,
   "id": "f252c842-c218-4d24-a4b1-e3d24433cb25",
   "metadata": {},
   "outputs": [
    {
     "name": "stdout",
     "output_type": "stream",
     "text": [
      "moyenne calculée en 2334ms\n"
     ]
    }
   ],
   "source": [
    "Random random = new Random();\n",
    "double ageMoyen;\n",
    "long startTime = System.nanoTime();\n",
    "ageMoyen =  IntStream.range(0, /* limit */ 20) //TRICK TO KNOW THE SIZE OF THE STREAM\n",
    "        .mapToObj(unused -> {try {Thread.sleep(100);} catch (java.lang.InterruptedException e) {};\n",
    "                             return Person.getInstance(\"pierre.durand@a.fr\",\"Pierre\", \"Durand\", random.nextInt(100));})\n",
    "        .mapToInt(Person::getAge)\n",
    "        .average()\n",
    "        .getAsDouble(); //Il s'agit d'un Optionnal\n",
    "long endTime = System.nanoTime();\n",
    "System.out.println(\"moyenne calculée en \"+(endTime - startTime)/1000000+\"ms\");"
   ]
  },
  {
   "cell_type": "code",
   "execution_count": 31,
   "id": "5cd8c267-5e09-4742-9cda-e4373ca2380b",
   "metadata": {},
   "outputs": [
    {
     "name": "stdout",
     "output_type": "stream",
     "text": [
      "moyenne calculée en 442ms\n"
     ]
    }
   ],
   "source": [
    "Random random = new Random();\n",
    "double ageMoyen;\n",
    "long startTime = System.nanoTime();\n",
    "ageMoyen =  IntStream.range(0, /* limit */ 20) //TRICK TO KNOW THE SIZE OF THE STREAM \n",
    "        .unordered().parallel() //EXECUTION PARALELLE\n",
    "        .mapToObj(unused -> {try {Thread.sleep(100);} catch (java.lang.InterruptedException e) {};\n",
    "                             return Person.getInstance(\"pierre.durand@a.fr\",\"Pierre\", \"Durand\", random.nextInt(100));})\n",
    "        .mapToInt(Person::getAge)\n",
    "        .average()\n",
    "        .getAsDouble(); //Il s'agit d'un Optionnal\n",
    "long endTime = System.nanoTime();\n",
    "System.out.println(\"moyenne calculée en \"+(endTime - startTime)/1000000+\"ms\");"
   ]
  },
  {
   "cell_type": "markdown",
   "id": "7b533fe6-4d12-4f6d-95aa-5f2d2ab6a22e",
   "metadata": {},
   "source": [
    "Les streams utilisent le mécanismes sous-jacent de Java [ForkJoin](https://docs.oracle.com/javase/tutorial/essential/concurrency/forkjoin.html)."
   ]
  },
  {
   "cell_type": "code",
   "execution_count": 32,
   "id": "240c9c3d-696e-46da-9e18-ebbfbf762e0b",
   "metadata": {},
   "outputs": [
    {
     "name": "stdout",
     "output_type": "stream",
     "text": [
      "Parallelism = 8\n"
     ]
    }
   ],
   "source": [
    "ForkJoinPool pool = new ForkJoinPool();\n",
    "System.out.println(\"Parallelism = \" +pool.getParallelism()); "
   ]
  },
  {
   "cell_type": "markdown",
   "id": "c0c38df5-f190-4498-95b0-1f43450f63ba",
   "metadata": {},
   "source": [
    "## Les interfaces en général\n",
    "A partir de Java 8, il est possible de définir une implantation par défaut dans une interface ainsi que des méthodes statiques."
   ]
  },
  {
   "cell_type": "code",
   "execution_count": 33,
   "id": "81c9093b-ec80-4889-a1b7-f0ca8ae54f72",
   "metadata": {},
   "outputs": [
    {
     "name": "stdout",
     "output_type": "stream",
     "text": [
      "ABC\n",
      "DEF\n",
      "Marie Durand\n",
      "Pierre Durand\n",
      "Albert Martin\n",
      "Une interface qui impose de définir une action et permet de l'exécuter une liste de <T>\n"
     ]
    }
   ],
   "source": [
    "public interface ActionClass<T> {\n",
    "    //Depuis Java 9 les méthodes statiques sont autorisées\n",
    "    static String getInterfaceDescription() {return \"Une interface qui impose de définir une action et permet de l'exécuter une liste de <T>\";}\n",
    "    \n",
    "    void action(T t);\n",
    "    \n",
    "    default void action(List<T> list) {\n",
    "        for(T t:list) action(t);\n",
    "    }\n",
    "}\n",
    "\n",
    "//Une classe qui affiche une String en majuscule et s'applique automatiquement à une liste de String\n",
    "public class UpperCaser implements ActionClass<String> {\n",
    "    public void action(String s) {System.out.println(s.toUpperCase());}\n",
    "}\n",
    "//Une classe qui affiche la concaténation du nom et du prénom d'une personne et s'applique automatiquement à une liste de Personne\n",
    "public class PersonFullname implements ActionClass<Person> {\n",
    "    public void action(Person p) {System.out.println(p.getFirstName()+\" \"+p.getLastName());}\n",
    "}\n",
    "\n",
    "\n",
    "//La factory .of() est apparue dans Java9 pour créer des Collections non mutables.\n",
    "new UpperCaser().action(List.of(\"abc\",\"def\"));\n",
    "\n",
    "new PersonFullname().action(personnes);\n",
    "\n",
    "System.out.println(ActionClass.getInterfaceDescription());"
   ]
  },
  {
   "cell_type": "markdown",
   "id": "7449ff37-c308-4cb5-80ff-a6365267b223",
   "metadata": {},
   "source": [
    "## Optional<T>\n",
    "Pour traiter plus simplement les possibles tests des cas de valeurs nulles, Java8 introduit le type `Optional`, un conteneur qui fournit des méthodes utilitaires dédiées.\n",
    "    \n",
    "La factory `of` vérifie que la référence n'est pas nulle et provoque une exception à la création sinon. \n",
    "    \n",
    "~~La méthode `get()` retourne la valeur.~~ Depuis Java 9, on préfére l'utilise de `orElseThrow()` qui émet une `NoSuchElementException` en l'abscence de valeur."
   ]
  },
  {
   "cell_type": "code",
   "execution_count": 34,
   "id": "0a350f99-c342-42c3-a4df-23e02d2203bd",
   "metadata": {},
   "outputs": [
    {
     "data": {
      "text/plain": [
       "value1"
      ]
     },
     "execution_count": 34,
     "metadata": {},
     "output_type": "execute_result"
    }
   ],
   "source": [
    "String str1 = \"value1\";\n",
    "Optional<String> optional1 = Optional.of(str1);\n",
    "optional1.orElseThrow();"
   ]
  },
  {
   "cell_type": "code",
   "execution_count": 35,
   "id": "2d6fdca3-f3d4-47df-a574-75f3b7484f82",
   "metadata": {},
   "outputs": [
    {
     "ename": "EvalException",
     "evalue": "null",
     "output_type": "error",
     "traceback": [
      "\u001b[1m\u001b[31m---------------------------------------------------------------------------\u001b[0m",
      "\u001b[1m\u001b[31mjava.lang.NullPointerException: null\u001b[0m",
      "\u001b[1m\u001b[31m\tat java.base/java.util.Objects.requireNonNull(Objects.java:233)\u001b[0m",
      "\u001b[1m\u001b[31m\tat java.base/java.util.Optional.of(Optional.java:113)\u001b[0m",
      "\u001b[1m\u001b[31m\tat .(#107:2)\u001b[0m"
     ]
    }
   ],
   "source": [
    "String str1Bis = null; // Provoque une Exception\n",
    "Optional<String> optional1 = Optional.of(str1Bis);"
   ]
  },
  {
   "cell_type": "markdown",
   "id": "634d8161-a7b9-418a-940e-fc9208e29624",
   "metadata": {},
   "source": [
    "Il est possible de manipuler des références éventuellement nulles avec la factory `ofNullable()`.\n",
    "Dans ce cas `OrElse()` est une alternative à pour obtenir une valeur par défault en cas de valeur nulle au lieu d'un Exception."
   ]
  },
  {
   "cell_type": "code",
   "execution_count": 36,
   "id": "d348c23f-68a6-4f91-901e-3c944321b16c",
   "metadata": {},
   "outputs": [
    {
     "data": {
      "text/plain": [
       "value2"
      ]
     },
     "execution_count": 36,
     "metadata": {},
     "output_type": "execute_result"
    }
   ],
   "source": [
    "String str2 = \"value2\";\n",
    "Optional<String> optional2 = Optional.ofNullable(str2);\n",
    "optional2.orElseThrow();"
   ]
  },
  {
   "cell_type": "code",
   "execution_count": 37,
   "id": "928e2851-84ce-4466-aeeb-a7b0d044c4dc",
   "metadata": {},
   "outputs": [
    {
     "ename": "EvalException",
     "evalue": "No value present",
     "output_type": "error",
     "traceback": [
      "\u001b[1m\u001b[31m---------------------------------------------------------------------------\u001b[0m",
      "\u001b[1m\u001b[31mjava.util.NoSuchElementException: No value present\u001b[0m",
      "\u001b[1m\u001b[31m\tat java.base/java.util.Optional.orElseThrow(Optional.java:377)\u001b[0m",
      "\u001b[1m\u001b[31m\tat .(#115:1)\u001b[0m"
     ]
    }
   ],
   "source": [
    "String str3 = null;\n",
    "Optional<String> optional3 = Optional.ofNullable(str3);\n",
    "optional3.orElseThrow();"
   ]
  },
  {
   "cell_type": "code",
   "execution_count": 38,
   "id": "3874f4b3-6e0e-4bf2-961c-281b6350c29b",
   "metadata": {},
   "outputs": [
    {
     "data": {
      "text/plain": [
       "defaultValue3"
      ]
     },
     "execution_count": 38,
     "metadata": {},
     "output_type": "execute_result"
    }
   ],
   "source": [
    "String str3Bis = null;\n",
    "Optional<String> optional3Bis = Optional.ofNullable(str3Bis);\n",
    "optional3Bis.orElse(\"defaultValue3\");"
   ]
  },
  {
   "cell_type": "markdown",
   "id": "a51391b1-b565-4c64-852d-ad23aa0023dc",
   "metadata": {},
   "source": [
    "`OrElseGet(Supplier s)` est une variante plus efficace si le calcul de la valeur par défaut est complexe car alors la fonction n'est évaluée qu'en cas de valeur nulle.\n",
    "\n",
    "Dans l'exemple ci dessous en cas de valeur nulle, une entrée alétoire du tableau est retournée."
   ]
  },
  {
   "cell_type": "code",
   "execution_count": 39,
   "id": "a2fd7fa8-fd78-469f-aacd-9ab3ca43d259",
   "metadata": {},
   "outputs": [
    {
     "data": {
      "text/plain": [
       "c3"
      ]
     },
     "execution_count": 39,
     "metadata": {},
     "output_type": "execute_result"
    }
   ],
   "source": [
    "String str4 = null;\n",
    "//String str4 = \"value3\"; \n",
    "String[] values={\"a1\",\"b2\",\"c3\"};\n",
    "\n",
    "Optional<String> optional4 = Optional.ofNullable(str4);\n",
    "\n",
    "optional4.orElseGet( () -> values[new Random().nextInt(values.length)] );"
   ]
  },
  {
   "cell_type": "markdown",
   "id": "a70a4715-9b75-4ce4-ba99-a363282e2538",
   "metadata": {},
   "source": [
    "## Java 9 \n",
    "### Modularisation\n",
    "\n",
    "Java 9 introduit la notion de module. Un module regroupe des classes, permet de définir des dépendances entre modules et défini une API publique. Le JDK devient modulaire et les programmes utilisateurs peuvent l'être cela permet d'executer des programmes en consommant moins de mémoire. Les classes internes du JDK ne sont plus accessibles depuis l'application pour améliorer la sécurité. \n",
    "\n",
    "Plus de détails : https://openjdk.java.net/projects/jigsaw/quick-start"
   ]
  },
  {
   "cell_type": "markdown",
   "id": "ee5cf42d-dd61-4960-bee0-ccf515ccbef1",
   "metadata": {},
   "source": [
    "## Process\n",
    "L'accès aux informations des processus systèmes est amélioré.\n",
    "Les examples suivants illustre l'accès au processus de la JVM et à tous ceux du système."
   ]
  },
  {
   "cell_type": "code",
   "execution_count": 40,
   "id": "e9431500-de60-411c-bf46-f676b271898d",
   "metadata": {},
   "outputs": [
    {
     "name": "stdout",
     "output_type": "stream",
     "text": [
      "PID: 123\n",
      "Arguments: Optional[[Ljava.lang.String;@5d08d44c]\n",
      "Command: Optional[/home/jovyan/.sdkman/candidates/java/19-tem/bin/java]\n",
      "Instant: Optional[2022-10-27T16:38:11.240Z]\n",
      "Total CPU duration: Optional[PT44.08S]\n",
      "User: Optional[jovyan]\n"
     ]
    }
   ],
   "source": [
    "ProcessHandle processHandle = ProcessHandle.current();\n",
    "ProcessHandle.Info processInfo = processHandle.info();\n",
    "\n",
    "System.out.println(\"PID: \" + processHandle.pid());\n",
    "System.out.println(\"Arguments: \" + processInfo.arguments());\n",
    "System.out.println(\"Command: \" + processInfo.command());\n",
    "System.out.println(\"Instant: \" + processInfo.startInstant());\n",
    "System.out.println(\"Total CPU duration: \" + processInfo.totalCpuDuration());\n",
    "System.out.println(\"User: \" + processInfo.user());"
   ]
  },
  {
   "cell_type": "code",
   "execution_count": 41,
   "id": "a82c37d0-372c-451b-af21-dc91a528c1fa",
   "metadata": {},
   "outputs": [
    {
     "name": "stdout",
     "output_type": "stream",
     "text": [
      "PID: 1\n",
      "  Start: Optional[2022-10-27T16:37:26.730Z]\n",
      "  User: Optional[jovyan]\n",
      "PID: 7\n",
      "  Start: Optional[2022-10-27T16:37:26.900Z]\n",
      "  User: Optional[jovyan]\n",
      "PID: 123\n",
      "  Start: Optional[2022-10-27T16:38:11.240Z]\n",
      "  User: Optional[jovyan]\n"
     ]
    }
   ],
   "source": [
    "import java.util.stream.Stream;\n",
    "\n",
    "Stream<ProcessHandle> liveProcesses = ProcessHandle.allProcesses();\n",
    "\n",
    "liveProcesses.filter(ProcessHandle::isAlive).limit(3)\n",
    "        .forEach(ph -> {\n",
    "            System.out.println(\"PID: \" + ph.pid());\n",
    "            System.out.println(\"  Start: \" + ph.info().startInstant());\n",
    "            System.out.println(\"  User: \" + ph.info().user());\n",
    "        });"
   ]
  },
  {
   "cell_type": "markdown",
   "id": "2b787ca7-91d8-44fe-afb4-b04fed2158e9",
   "metadata": {},
   "source": [
    "//TODO : ProcessBuilder (Since Java 7)"
   ]
  },
  {
   "cell_type": "markdown",
   "id": "fee615d3-ab23-43ce-92f8-07349ea17098",
   "metadata": {},
   "source": [
    "## Inférence du type des variables locales\n",
    "Depuis Java 10, le type des variables locales avec initialisation peut être inféré à la compilation avec le mot clé `var`."
   ]
  },
  {
   "cell_type": "code",
   "execution_count": 42,
   "id": "7442e630-59d9-41ce-b94f-93626f39f5f7",
   "metadata": {},
   "outputs": [
    {
     "data": {
      "text/plain": [
       "{1=A, 2=B}"
      ]
     },
     "execution_count": 42,
     "metadata": {},
     "output_type": "execute_result"
    }
   ],
   "source": [
    "var i = 3;\n",
    "var myMap = new HashMap<Integer,String>();\n",
    "\n",
    "myMap.put(1,\"A\");\n",
    "myMap.put(2,\"B\");\n",
    "myMap;"
   ]
  },
  {
   "cell_type": "markdown",
   "id": "293cf88b-aba4-4b06-9481-2e45995f967d",
   "metadata": {},
   "source": [
    "Depuis Java 11, c'est possible dans les lambdas même si le type des paramètre est déjà inféré.\n",
    "L'un des avantages est de pouvoir associer des annotations sans avoir à spécifier le type."
   ]
  },
  {
   "cell_type": "code",
   "execution_count": 43,
   "id": "1de71294-adba-461a-816f-a08b64fa8ff7",
   "metadata": {},
   "outputs": [],
   "source": [
    "public @interface MyAnnotation { }\n",
    "\n",
    "import java.util.function.BiFunction;\n",
    "BiFunction<String,String,String> f1 = (s1, s2) -> s1 + s2;\n",
    "\n",
    "BiFunction<String,String,String> f2 = (@MyAnnotation var s1, @MyAnnotation var s2) -> s1 + s2;"
   ]
  },
  {
   "cell_type": "markdown",
   "id": "398ceceb-e44c-4cb6-afac-5cfa579bd890",
   "metadata": {},
   "source": [
    "## Instance Of\n",
    "Depuis Java 12 en preview, l'opérateur `instance of` permet de faire implicement un cast en cas de succès."
   ]
  },
  {
   "cell_type": "code",
   "execution_count": 44,
   "id": "4619ca58-d7bd-4fb3-8cd5-77bd3410f6cf",
   "metadata": {},
   "outputs": [
    {
     "name": "stdout",
     "output_type": "stream",
     "text": [
      "Pierre\n"
     ]
    }
   ],
   "source": [
    "Object obj = Person.getInstance(\"pierre.durand@a.fr\",\"Pierre\", \"Durand\", 20);\n",
    "\n",
    "if (obj instanceof Person p) {\n",
    "    System.out.println(p.getFirstName());\n",
    "}"
   ]
  },
  {
   "cell_type": "markdown",
   "id": "25490113-b35e-4593-a24e-a5b24694cbc0",
   "metadata": {},
   "source": [
    "## Text blocks\n",
    "Depuis Java 13, il est possible d'utiliser des litéraux multilignes pour les String."
   ]
  },
  {
   "cell_type": "code",
   "execution_count": 45,
   "id": "6eb985b8-2b0a-4728-a4bb-53ac65527e44",
   "metadata": {},
   "outputs": [
    {
     "data": {
      "text/plain": [
       "{\n",
       "    \"fistname\" : \"Pierre\",\n",
       "    \"lastname\" : \"Durand\",\n",
       "    \"description\" : \"lorem ipsum.................................................lorem ipsum\"\n",
       "}\n"
      ]
     },
     "execution_count": 45,
     "metadata": {},
     "output_type": "execute_result"
    }
   ],
   "source": [
    "String person1Json=\"\"\"\n",
    "{\n",
    "    \"fistname\" : \"Pierre\",\n",
    "    \"lastname\" : \"Durand\",\n",
    "    \"description\" : \"lorem ipsum.............\\\n",
    "..................\\\n",
    "..................lorem ipsum\"\n",
    "}    \n",
    "\"\"\";\n",
    "    \n",
    "person1Json;"
   ]
  },
  {
   "cell_type": "markdown",
   "id": "1df189fb-bbad-47e0-9e27-3a5933ed689d",
   "metadata": {},
   "source": [
    "### Records\n",
    "Les `record` (depuis Java 14/15) permettent de définir très simplement des classes non mutables avec constructeurs, accesseurs (sans le préfixe get), toString()."
   ]
  },
  {
   "cell_type": "code",
   "execution_count": 46,
   "id": "bbdb2110-691a-4e60-b70c-79b746ad7a54",
   "metadata": {},
   "outputs": [
    {
     "name": "stdout",
     "output_type": "stream",
     "text": [
      "Dog[id=1, name=Rex]-> nom:Rex\n"
     ]
    }
   ],
   "source": [
    "public record Dog(int id, String name){ };\n",
    "\n",
    "Dog d1 = new Dog(1, \"Rex\");\n",
    "Dog d2 = new Dog(2, \"Médor\");\n",
    "Dog d3 = new Dog(1, \"Rex\");\n",
    "\n",
    "System.out.println(d1+\"-> nom:\"+d1.name());"
   ]
  },
  {
   "cell_type": "markdown",
   "id": "4516a534-3d6f-43e9-aee7-5deda23219e1",
   "metadata": {},
   "source": [
    "ainsi qu'une implantation de `equals` et `hashcode` (égalités de tous les composants). \n",
    "Il sont typement très utilisés pour les design pattern comme le DTO."
   ]
  },
  {
   "cell_type": "code",
   "execution_count": 47,
   "id": "3df9fe45-3c81-4cba-ab6a-7a90c76ee235",
   "metadata": {},
   "outputs": [
    {
     "name": "stdout",
     "output_type": "stream",
     "text": [
      "[Dog[id=2, name=Médor], Dog[id=1, name=Rex]]\n"
     ]
    }
   ],
   "source": [
    "import java.util.stream.Collectors;\n",
    "System.out.println(Stream.of(d1,d2,d3).collect(Collectors.toCollection(HashSet::new)).toString());            "
   ]
  },
  {
   "cell_type": "markdown",
   "id": "5814c932-3ebb-4fd2-b4d9-833af768559a",
   "metadata": {},
   "source": [
    "Il est possible de redéfinir ou de surcharger le constructeur et les accesseurs/modificateurs et d'ajouter des variables et méthodes de classes **mais pas de variable d'instance**."
   ]
  },
  {
   "cell_type": "code",
   "execution_count": 48,
   "id": "abc39d93-90c1-4d43-8fa0-df5b1eb4aac1",
   "metadata": {},
   "outputs": [
    {
     "ename": "EvalException",
     "evalue": "Id has to be greater than 0.",
     "output_type": "error",
     "traceback": [
      "\u001b[1m\u001b[31m---------------------------------------------------------------------------\u001b[0m",
      "\u001b[1m\u001b[31mjava.lang.IllegalArgumentException: Id has to be greater than 0.\u001b[0m",
      "\u001b[1m\u001b[31m\tat User.<init>(#153:3)\u001b[0m",
      "\u001b[1m\u001b[31m\tat .(#155:1)\u001b[0m"
     ]
    }
   ],
   "source": [
    "public record User(int id, String firstname){ \n",
    "        public User {\n",
    "            if(id < 0) { throw new IllegalArgumentException(\"Id has to be greater than 0.\");\n",
    "        }\n",
    "    }\n",
    "};\n",
    "\n",
    "new User(-1,\"Pierre\");"
   ]
  },
  {
   "cell_type": "markdown",
   "id": "aa32f973-6bdf-4311-b872-21f980001f16",
   "metadata": {},
   "source": [
    "## Sealed and Hidden classes\n",
    "\n",
    "```Java\n",
    "public final class B extends A  { };\n",
    "public non-sealed class C extends A  { };\n",
    "\n",
    "public abstract sealed class A\n",
    "    permits B, C {\n",
    "}\n",
    "```"
   ]
  },
  {
   "cell_type": "markdown",
   "id": "43582725-93d2-4831-bf04-6e9e3d4add70",
   "metadata": {},
   "source": [
    "### Switch\n",
    "\n",
    "A partir de Java 17 le switch peut évaluer une expression et retourner sa valeur."
   ]
  },
  {
   "cell_type": "code",
   "execution_count": 49,
   "id": "6b8e1cb7-18ad-4c5d-871f-57322f928dac",
   "metadata": {},
   "outputs": [
    {
     "data": {
      "text/plain": [
       "9"
      ]
     },
     "execution_count": 49,
     "metadata": {},
     "output_type": "execute_result"
    }
   ],
   "source": [
    "public enum Day { SUNDAY, MONDAY, TUESDAY,\n",
    "    WEDNESDAY, THURSDAY, FRIDAY, SATURDAY; }\n",
    "\n",
    "Day day = Day.WEDNESDAY;    \n",
    "//Day day = Day.TUESDAY;    \n",
    "\n",
    "int l = \n",
    "        switch (day) {\n",
    "            case MONDAY, FRIDAY, SUNDAY -> 6;\n",
    "            case TUESDAY                -> 7;\n",
    "            case THURSDAY, SATURDAY     -> 8;\n",
    "            case WEDNESDAY              -> 9;\n",
    "            default -> throw new IllegalStateException(\"Invalid day: \" + day);\n",
    "        };\n",
    "\n",
    "l;"
   ]
  },
  {
   "cell_type": "markdown",
   "id": "294be399-ade8-4227-a6a2-3be8359f3a71",
   "metadata": {},
   "source": [
    "et utiliser des Pattern de classes."
   ]
  },
  {
   "cell_type": "code",
   "execution_count": 50,
   "id": "42c7d715-5cfc-4465-8f8d-7b7bd0e755ed",
   "metadata": {},
   "outputs": [
    {
     "ename": "EvalException",
     "evalue": "Preview features are not enabled for REPL/$JShell$161 (class file version 63.65535). Try running with '--enable-preview'",
     "output_type": "error",
     "traceback": [
      "\u001b[1m\u001b[31m---------------------------------------------------------------------------\u001b[0m",
      "\u001b[1m\u001b[31mjava.lang.UnsupportedClassVersionError: Preview features are not enabled for REPL/$JShell$161 (class file version 63.65535). Try running with '--enable-preview'\u001b[0m",
      "\u001b[1m\u001b[31m\tat java.base/java.lang.ClassLoader.defineClass1(Native Method)\u001b[0m",
      "\u001b[1m\u001b[31m\tat java.base/java.lang.ClassLoader.defineClass(ClassLoader.java:1013)\u001b[0m",
      "\u001b[1m\u001b[31m\tat java.base/java.security.SecureClassLoader.defineClass(SecureClassLoader.java:150)\u001b[0m",
      "\u001b[1m\u001b[31m\tat jdk.jshell/jdk.jshell.execution.DefaultLoaderDelegate$RemoteClassLoader.findClass(DefaultLoaderDelegate.java:156)\u001b[0m",
      "\u001b[1m\u001b[31m\tat java.base/java.lang.ClassLoader.loadClass(ClassLoader.java:588)\u001b[0m",
      "\u001b[1m\u001b[31m\tat java.base/java.lang.ClassLoader.loadClass(ClassLoader.java:521)\u001b[0m",
      "\u001b[1m\u001b[31m\tat .(#162:1)\u001b[0m"
     ]
    }
   ],
   "source": [
    "Dog d1 = new Dog(1, \"Rex\");\n",
    "User u1= new User(1,\"Pierre\");\n",
    "\n",
    "public String check(Object o) {\n",
    "    return switch (obj) {\n",
    "                case User u -> \"I'm a user \"+u.firstname();\n",
    "                case Dog d -> \"I'm a dog \"+d.name();\n",
    "                case null -> \"NULL !\";\n",
    "                default -> \"A simple object.\";\n",
    "    };\n",
    "}\n",
    "\n",
    "System.out.println(\"-->\"+check(d1));"
   ]
  },
  {
   "cell_type": "markdown",
   "id": "8039e8d7-6f44-4b52-bf2a-955eda325cca",
   "metadata": {},
   "source": [
    "### Record Pattern\n",
    "\n",
    "En preview dans Java 19."
   ]
  },
  {
   "cell_type": "code",
   "execution_count": 51,
   "id": "e0264f8a-bda4-4f45-9846-004247419427",
   "metadata": {},
   "outputs": [
    {
     "ename": "EvalException",
     "evalue": "Preview features are not enabled for REPL/$JShell$165 (class file version 63.65535). Try running with '--enable-preview'",
     "output_type": "error",
     "traceback": [
      "\u001b[1m\u001b[31m---------------------------------------------------------------------------\u001b[0m",
      "\u001b[1m\u001b[31mjava.lang.UnsupportedClassVersionError: Preview features are not enabled for REPL/$JShell$165 (class file version 63.65535). Try running with '--enable-preview'\u001b[0m",
      "\u001b[1m\u001b[31m\tat java.base/java.lang.ClassLoader.defineClass1(Native Method)\u001b[0m",
      "\u001b[1m\u001b[31m\tat java.base/java.lang.ClassLoader.defineClass(ClassLoader.java:1013)\u001b[0m",
      "\u001b[1m\u001b[31m\tat java.base/java.security.SecureClassLoader.defineClass(SecureClassLoader.java:150)\u001b[0m",
      "\u001b[1m\u001b[31m\tat jdk.jshell/jdk.jshell.execution.DefaultLoaderDelegate$RemoteClassLoader.findClass(DefaultLoaderDelegate.java:156)\u001b[0m",
      "\u001b[1m\u001b[31m\tat java.base/java.lang.ClassLoader.loadClass(ClassLoader.java:588)\u001b[0m",
      "\u001b[1m\u001b[31m\tat java.base/java.lang.ClassLoader.loadClass(ClassLoader.java:521)\u001b[0m",
      "\u001b[1m\u001b[31m\tat .(#166:1)\u001b[0m"
     ]
    }
   ],
   "source": [
    "record Animal(int id, String name){}\n",
    "record Budy(long id, String firstname){}\n",
    "\n",
    "static void printName(Object o) {\n",
    "    if (o instanceof Animal(var id, var name) d)\n",
    "        System.out.printf(\"dog %d name is %s.\",d.id(),d.name());\n",
    "    else \n",
    "        if (o instanceof Budy(var id, var firstname) d)\n",
    "            System.out.printf(\"Budy %d firstname is %s.\",d.id(),d.firstname());\n",
    "}\n",
    "    \n",
    "printName(new Animal(3,\"Félix\"));\n",
    "printName(new Budy(1L,\"Pierre\"));"
   ]
  },
  {
   "cell_type": "code",
   "execution_count": null,
   "id": "08501947-67bd-41cc-af9a-4aafbbd12a1f",
   "metadata": {},
   "outputs": [],
   "source": []
  }
 ],
 "metadata": {
  "kernelspec": {
   "display_name": "Java [conda env:root] *",
   "language": "java",
   "name": "conda-root-java"
  },
  "language_info": {
   "codemirror_mode": "java",
   "file_extension": ".jshell",
   "mimetype": "text/x-java-source",
   "name": "Java",
   "pygments_lexer": "java",
   "version": "19+36"
  }
 },
 "nbformat": 4,
 "nbformat_minor": 5
}
